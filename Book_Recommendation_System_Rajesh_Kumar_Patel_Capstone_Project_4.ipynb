{
  "nbformat": 4,
  "nbformat_minor": 0,
  "metadata": {
    "colab": {
      "name": "Book_Recommendation_System_Rajesh_Kumar_Patel-Capstone_Project_4.ipynb",
      "provenance": [],
      "collapsed_sections": [
        "P0d1nvt_PFHc",
        "GDgwVVAfZCvX",
        "ytU_9Zf5EFVu",
        "CUiTUHu02X92",
        "r9C6zEO6aluu",
        "7JvGR4cm5L0G",
        "DV2BIk4A881O"
      ],
      "mount_file_id": "1-gJyIAkNIqMiDYj-xDrw8nVXjmQKZ4k0",
      "authorship_tag": "ABX9TyNndpTgKcgSxzGu69dgCkqo"
    },
    "kernelspec": {
      "name": "python3",
      "display_name": "Python 3"
    },
    "language_info": {
      "name": "python"
    }
  },
  "cells": [
    {
      "cell_type": "markdown",
      "metadata": {
        "id": "qfwGERQyUcUA"
      },
      "source": [
        "#Problem Statement \n",
        "During the last few decades, with the rise of Youtube, Amazon, Netflix, and many other such\n",
        "web services, recommender systems have taken more and more place in our lives. From\n",
        "e-commerce (suggest to buyers articles that could interest them) to online advertisement\n",
        "(suggest to users the right contents, matching their preferences), recommender systems are\n",
        "today unavoidable in our daily online journeys.\n",
        "In a very general way, recommender systems are algorithms aimed at suggesting relevant\n",
        "items to users (items being movies to watch, text to read, products to buy, or anything else\n",
        "depending on industries).\n",
        "Recommender systems are really critical in some industries as they can generate a huge\n",
        "amount of income when they are efficient or also be a way to stand out significantly from\n",
        "competitors.\n",
        "\n",
        "#The main objective is to create a book recommendation system for users."
      ]
    },
    {
      "cell_type": "markdown",
      "metadata": {
        "id": "ZzyJrrm5XYhe"
      },
      "source": [
        "The Book-Crossing dataset comprises 3 files.\n",
        "\n",
        "● Users :\n",
        "\n",
        "Contains the users. Note that user IDs (User-ID) have been anonymized and map to\n",
        "integers. Demographic data is provided (Location, Age) if available. Otherwise, these\n",
        "fields contain NULL values.\n",
        "\n",
        "● Books :\n",
        "\n",
        "Books are identified by their respective ISBN. Invalid ISBNs have already been removed\n",
        "from the dataset. Moreover, some content-based information is given (Book-Title,\n",
        "Book-Author, Year-Of-Publication, Publisher), obtained from Amazon Web\n",
        "Services. Note that in the case of several authors, only the first is provided. URLs linking\n",
        "to cover images are also given, appearing in three different flavors (Image-URL-S,\n",
        "Image-URL-M, Image-URL-L), i.e., small, medium, large. These URLs point to the\n",
        "Amazon website.\n",
        "\n",
        "● Ratings :\n",
        "\n",
        "Contains the book rating information. Ratings (Book-Rating) are either explicit,\n",
        "expressed on a scale from 1-10 (higher values denoting higher appreciation), or implicit,\n",
        "expressed by 0."
      ]
    },
    {
      "cell_type": "markdown",
      "metadata": {
        "id": "YUSlmHWFVgMl"
      },
      "source": [
        "## **Importing Libraries**"
      ]
    },
    {
      "cell_type": "code",
      "metadata": {
        "id": "m2w_ho8y-Nko"
      },
      "source": [
        "#Importing modules\n",
        "import pandas as pd\n",
        "import numpy as np\n",
        "import matplotlib.pyplot as plt\n",
        "import seaborn as sns\n",
        "import random\n",
        "\n",
        "#ignore warnings\n",
        "import warnings\n",
        "warnings.filterwarnings('ignore')\n"
      ],
      "execution_count": 1,
      "outputs": []
    },
    {
      "cell_type": "markdown",
      "metadata": {
        "id": "_tWn8PM3cxZU"
      },
      "source": [
        "## **Loading all Dataset**"
      ]
    },
    {
      "cell_type": "code",
      "metadata": {
        "id": "e_Ek1L8tw21x"
      },
      "source": [
        "# from google.colab import drive\n",
        "# drive.mount('/content/drive')"
      ],
      "execution_count": 2,
      "outputs": []
    },
    {
      "cell_type": "code",
      "metadata": {
        "id": "uIROU-2JYExw"
      },
      "source": [
        "#loading user.csv data as users_df\n",
        "users_df = pd.read_csv('/content/drive/MyDrive/Colab Notebooks/Project/Book_Recommendation_System_Rajesh_Kumar_Patel-Capstone_Project_4/Data/Users.csv')"
      ],
      "execution_count": 5,
      "outputs": []
    },
    {
      "cell_type": "code",
      "metadata": {
        "colab": {
          "base_uri": "https://localhost:8080/",
          "height": 206
        },
        "id": "ayYKM_0FZYm9",
        "outputId": "8b98d7dd-efbd-46a2-a150-cdd004e68d4c"
      },
      "source": [
        "#first look of users_df\n",
        "users_df.head()"
      ],
      "execution_count": 6,
      "outputs": [
        {
          "output_type": "execute_result",
          "data": {
            "text/html": [
              "<div>\n",
              "<style scoped>\n",
              "    .dataframe tbody tr th:only-of-type {\n",
              "        vertical-align: middle;\n",
              "    }\n",
              "\n",
              "    .dataframe tbody tr th {\n",
              "        vertical-align: top;\n",
              "    }\n",
              "\n",
              "    .dataframe thead th {\n",
              "        text-align: right;\n",
              "    }\n",
              "</style>\n",
              "<table border=\"1\" class=\"dataframe\">\n",
              "  <thead>\n",
              "    <tr style=\"text-align: right;\">\n",
              "      <th></th>\n",
              "      <th>User-ID</th>\n",
              "      <th>Location</th>\n",
              "      <th>Age</th>\n",
              "    </tr>\n",
              "  </thead>\n",
              "  <tbody>\n",
              "    <tr>\n",
              "      <th>0</th>\n",
              "      <td>1</td>\n",
              "      <td>nyc, new york, usa</td>\n",
              "      <td>NaN</td>\n",
              "    </tr>\n",
              "    <tr>\n",
              "      <th>1</th>\n",
              "      <td>2</td>\n",
              "      <td>stockton, california, usa</td>\n",
              "      <td>18.0</td>\n",
              "    </tr>\n",
              "    <tr>\n",
              "      <th>2</th>\n",
              "      <td>3</td>\n",
              "      <td>moscow, yukon territory, russia</td>\n",
              "      <td>NaN</td>\n",
              "    </tr>\n",
              "    <tr>\n",
              "      <th>3</th>\n",
              "      <td>4</td>\n",
              "      <td>porto, v.n.gaia, portugal</td>\n",
              "      <td>17.0</td>\n",
              "    </tr>\n",
              "    <tr>\n",
              "      <th>4</th>\n",
              "      <td>5</td>\n",
              "      <td>farnborough, hants, united kingdom</td>\n",
              "      <td>NaN</td>\n",
              "    </tr>\n",
              "  </tbody>\n",
              "</table>\n",
              "</div>"
            ],
            "text/plain": [
              "   User-ID                            Location   Age\n",
              "0        1                  nyc, new york, usa   NaN\n",
              "1        2           stockton, california, usa  18.0\n",
              "2        3     moscow, yukon territory, russia   NaN\n",
              "3        4           porto, v.n.gaia, portugal  17.0\n",
              "4        5  farnborough, hants, united kingdom   NaN"
            ]
          },
          "metadata": {},
          "execution_count": 6
        }
      ]
    },
    {
      "cell_type": "code",
      "metadata": {
        "id": "thuA-J9EZs_c"
      },
      "source": [
        "#loading Books.csv data as books_df\n",
        "books_df = pd.read_csv('/content/drive/MyDrive/Colab Notebooks/Project/Book_Recommendation_System_Rajesh_Kumar_Patel-Capstone_Project_4/Data/Books.csv')"
      ],
      "execution_count": 7,
      "outputs": []
    },
    {
      "cell_type": "code",
      "metadata": {
        "colab": {
          "base_uri": "https://localhost:8080/",
          "height": 435
        },
        "id": "xoBTzt4JZs_h",
        "outputId": "7c61d34c-824f-44af-cca6-a62afebcf326"
      },
      "source": [
        "#first look of books_df\n",
        "books_df.head()"
      ],
      "execution_count": 8,
      "outputs": [
        {
          "output_type": "execute_result",
          "data": {
            "text/html": [
              "<div>\n",
              "<style scoped>\n",
              "    .dataframe tbody tr th:only-of-type {\n",
              "        vertical-align: middle;\n",
              "    }\n",
              "\n",
              "    .dataframe tbody tr th {\n",
              "        vertical-align: top;\n",
              "    }\n",
              "\n",
              "    .dataframe thead th {\n",
              "        text-align: right;\n",
              "    }\n",
              "</style>\n",
              "<table border=\"1\" class=\"dataframe\">\n",
              "  <thead>\n",
              "    <tr style=\"text-align: right;\">\n",
              "      <th></th>\n",
              "      <th>ISBN</th>\n",
              "      <th>Book-Title</th>\n",
              "      <th>Book-Author</th>\n",
              "      <th>Year-Of-Publication</th>\n",
              "      <th>Publisher</th>\n",
              "      <th>Image-URL-S</th>\n",
              "      <th>Image-URL-M</th>\n",
              "      <th>Image-URL-L</th>\n",
              "    </tr>\n",
              "  </thead>\n",
              "  <tbody>\n",
              "    <tr>\n",
              "      <th>0</th>\n",
              "      <td>0195153448</td>\n",
              "      <td>Classical Mythology</td>\n",
              "      <td>Mark P. O. Morford</td>\n",
              "      <td>2002</td>\n",
              "      <td>Oxford University Press</td>\n",
              "      <td>http://images.amazon.com/images/P/0195153448.0...</td>\n",
              "      <td>http://images.amazon.com/images/P/0195153448.0...</td>\n",
              "      <td>http://images.amazon.com/images/P/0195153448.0...</td>\n",
              "    </tr>\n",
              "    <tr>\n",
              "      <th>1</th>\n",
              "      <td>0002005018</td>\n",
              "      <td>Clara Callan</td>\n",
              "      <td>Richard Bruce Wright</td>\n",
              "      <td>2001</td>\n",
              "      <td>HarperFlamingo Canada</td>\n",
              "      <td>http://images.amazon.com/images/P/0002005018.0...</td>\n",
              "      <td>http://images.amazon.com/images/P/0002005018.0...</td>\n",
              "      <td>http://images.amazon.com/images/P/0002005018.0...</td>\n",
              "    </tr>\n",
              "    <tr>\n",
              "      <th>2</th>\n",
              "      <td>0060973129</td>\n",
              "      <td>Decision in Normandy</td>\n",
              "      <td>Carlo D'Este</td>\n",
              "      <td>1991</td>\n",
              "      <td>HarperPerennial</td>\n",
              "      <td>http://images.amazon.com/images/P/0060973129.0...</td>\n",
              "      <td>http://images.amazon.com/images/P/0060973129.0...</td>\n",
              "      <td>http://images.amazon.com/images/P/0060973129.0...</td>\n",
              "    </tr>\n",
              "    <tr>\n",
              "      <th>3</th>\n",
              "      <td>0374157065</td>\n",
              "      <td>Flu: The Story of the Great Influenza Pandemic...</td>\n",
              "      <td>Gina Bari Kolata</td>\n",
              "      <td>1999</td>\n",
              "      <td>Farrar Straus Giroux</td>\n",
              "      <td>http://images.amazon.com/images/P/0374157065.0...</td>\n",
              "      <td>http://images.amazon.com/images/P/0374157065.0...</td>\n",
              "      <td>http://images.amazon.com/images/P/0374157065.0...</td>\n",
              "    </tr>\n",
              "    <tr>\n",
              "      <th>4</th>\n",
              "      <td>0393045218</td>\n",
              "      <td>The Mummies of Urumchi</td>\n",
              "      <td>E. J. W. Barber</td>\n",
              "      <td>1999</td>\n",
              "      <td>W. W. Norton &amp;amp; Company</td>\n",
              "      <td>http://images.amazon.com/images/P/0393045218.0...</td>\n",
              "      <td>http://images.amazon.com/images/P/0393045218.0...</td>\n",
              "      <td>http://images.amazon.com/images/P/0393045218.0...</td>\n",
              "    </tr>\n",
              "  </tbody>\n",
              "</table>\n",
              "</div>"
            ],
            "text/plain": [
              "         ISBN  ...                                        Image-URL-L\n",
              "0  0195153448  ...  http://images.amazon.com/images/P/0195153448.0...\n",
              "1  0002005018  ...  http://images.amazon.com/images/P/0002005018.0...\n",
              "2  0060973129  ...  http://images.amazon.com/images/P/0060973129.0...\n",
              "3  0374157065  ...  http://images.amazon.com/images/P/0374157065.0...\n",
              "4  0393045218  ...  http://images.amazon.com/images/P/0393045218.0...\n",
              "\n",
              "[5 rows x 8 columns]"
            ]
          },
          "metadata": {},
          "execution_count": 8
        }
      ]
    },
    {
      "cell_type": "code",
      "metadata": {
        "id": "uqe11k-FZ-BZ"
      },
      "source": [
        "#loading Ratings.csv data as ratings_df\n",
        "ratings_df = pd.read_csv('/content/drive/MyDrive/Colab Notebooks/Project/Book_Recommendation_System_Rajesh_Kumar_Patel-Capstone_Project_4/Data/Ratings.csv')"
      ],
      "execution_count": 9,
      "outputs": []
    },
    {
      "cell_type": "code",
      "metadata": {
        "colab": {
          "base_uri": "https://localhost:8080/",
          "height": 206
        },
        "id": "vopkqyYKZ-Bb",
        "outputId": "3f5c1a4e-da4c-4797-d72f-8f7d7e37ceea"
      },
      "source": [
        "#first look of ratings_df\n",
        "ratings_df.head()"
      ],
      "execution_count": 10,
      "outputs": [
        {
          "output_type": "execute_result",
          "data": {
            "text/html": [
              "<div>\n",
              "<style scoped>\n",
              "    .dataframe tbody tr th:only-of-type {\n",
              "        vertical-align: middle;\n",
              "    }\n",
              "\n",
              "    .dataframe tbody tr th {\n",
              "        vertical-align: top;\n",
              "    }\n",
              "\n",
              "    .dataframe thead th {\n",
              "        text-align: right;\n",
              "    }\n",
              "</style>\n",
              "<table border=\"1\" class=\"dataframe\">\n",
              "  <thead>\n",
              "    <tr style=\"text-align: right;\">\n",
              "      <th></th>\n",
              "      <th>User-ID</th>\n",
              "      <th>ISBN</th>\n",
              "      <th>Book-Rating</th>\n",
              "    </tr>\n",
              "  </thead>\n",
              "  <tbody>\n",
              "    <tr>\n",
              "      <th>0</th>\n",
              "      <td>276725</td>\n",
              "      <td>034545104X</td>\n",
              "      <td>0</td>\n",
              "    </tr>\n",
              "    <tr>\n",
              "      <th>1</th>\n",
              "      <td>276726</td>\n",
              "      <td>0155061224</td>\n",
              "      <td>5</td>\n",
              "    </tr>\n",
              "    <tr>\n",
              "      <th>2</th>\n",
              "      <td>276727</td>\n",
              "      <td>0446520802</td>\n",
              "      <td>0</td>\n",
              "    </tr>\n",
              "    <tr>\n",
              "      <th>3</th>\n",
              "      <td>276729</td>\n",
              "      <td>052165615X</td>\n",
              "      <td>3</td>\n",
              "    </tr>\n",
              "    <tr>\n",
              "      <th>4</th>\n",
              "      <td>276729</td>\n",
              "      <td>0521795028</td>\n",
              "      <td>6</td>\n",
              "    </tr>\n",
              "  </tbody>\n",
              "</table>\n",
              "</div>"
            ],
            "text/plain": [
              "   User-ID        ISBN  Book-Rating\n",
              "0   276725  034545104X            0\n",
              "1   276726  0155061224            5\n",
              "2   276727  0446520802            0\n",
              "3   276729  052165615X            3\n",
              "4   276729  0521795028            6"
            ]
          },
          "metadata": {},
          "execution_count": 10
        }
      ]
    },
    {
      "cell_type": "markdown",
      "metadata": {
        "id": "4s3Q44DvcZ1p"
      },
      "source": [
        "# **Exploratory Data Analysis**"
      ]
    },
    {
      "cell_type": "code",
      "metadata": {
        "colab": {
          "base_uri": "https://localhost:8080/"
        },
        "id": "shISmHyOKeQo",
        "outputId": "cfed767b-b1de-49fb-b123-49792ed2d04b"
      },
      "source": [
        "#shape of all three dataset\n",
        "print(f''' \\t  shape of users_df is:   {users_df.shape}\n",
        "          shape of books_df is:   {books_df.shape}\n",
        "          shape of ratings_df is: {ratings_df.shape}''')"
      ],
      "execution_count": 11,
      "outputs": [
        {
          "output_type": "stream",
          "name": "stdout",
          "text": [
            " \t  shape of users_df is:   (278858, 3)\n",
            "          shape of books_df is:   (271360, 8)\n",
            "          shape of ratings_df is: (1149780, 3)\n"
          ]
        }
      ]
    },
    {
      "cell_type": "markdown",
      "metadata": {
        "id": "VEq_EZekG3z1"
      },
      "source": [
        "## **Feature information in details**\n",
        "\n",
        "**Dataset 1 - Users.csv (278858)**\n",
        "\n",
        "* **User-ID** Unique user id\n",
        "* **Location** location of the user\n",
        "* **Age** age of user\n",
        "\n",
        "\n",
        "**Dataset 2 - Books.csv (271360)**\n",
        "* **ISBN** Book ID\n",
        "* **Book-Title** Book Name\n",
        "* **Book-Author** Book Author Name\n",
        "* **Year-Of-Publication** year of publication date\n",
        "* **Publisher** publisher of the book\n",
        "* **Image-URL-S** small image of the book , amazon link\n",
        "* **Image-URL-M** medium size image of the book , amazon link\n",
        "* **Image-URL-L** large image size of the book , amazon link\n",
        "\n",
        "**Dataset 3 - Rating.csv (1149780)**\n",
        "* **User-ID** Unique user id\n",
        "* **ISBN** Book ID\n",
        "* **Book-Rating** Rating given by user"
      ]
    },
    {
      "cell_type": "markdown",
      "metadata": {
        "id": "P0d1nvt_PFHc"
      },
      "source": [
        "## **1.)Users_Dataset**"
      ]
    },
    {
      "cell_type": "code",
      "metadata": {
        "id": "EP0Y7ma_lehO"
      },
      "source": [
        "#function for checking missing value\n",
        "def check_missing_values(df):\n",
        "    mis_val = df.isnull().sum()\n",
        "    mis_val_percent = round(df.isnull().mean().mul(100),2)\n",
        "    mis_table = pd.concat([mis_val,mis_val_percent],axis=1)\n",
        "    mis_table = mis_table.rename(columns = {0:'Missing Values',1:'Missing Values %'})\n",
        "    mis_table['Data_type']=df.dtypes\n",
        "    mis_table = mis_table.sort_values('Missing Values %',ascending=False)\n",
        "    return mis_table.reset_index()"
      ],
      "execution_count": 12,
      "outputs": []
    },
    {
      "cell_type": "code",
      "metadata": {
        "colab": {
          "base_uri": "https://localhost:8080/",
          "height": 144
        },
        "id": "vfwWnFcpoZrF",
        "outputId": "b2abc8c1-9aa6-43f4-867c-b3076adc16e8"
      },
      "source": [
        "#checking missing value in Users dataset\n",
        "check_missing_values(users_df)"
      ],
      "execution_count": 13,
      "outputs": [
        {
          "output_type": "execute_result",
          "data": {
            "text/html": [
              "<div>\n",
              "<style scoped>\n",
              "    .dataframe tbody tr th:only-of-type {\n",
              "        vertical-align: middle;\n",
              "    }\n",
              "\n",
              "    .dataframe tbody tr th {\n",
              "        vertical-align: top;\n",
              "    }\n",
              "\n",
              "    .dataframe thead th {\n",
              "        text-align: right;\n",
              "    }\n",
              "</style>\n",
              "<table border=\"1\" class=\"dataframe\">\n",
              "  <thead>\n",
              "    <tr style=\"text-align: right;\">\n",
              "      <th></th>\n",
              "      <th>index</th>\n",
              "      <th>Missing Values</th>\n",
              "      <th>Missing Values %</th>\n",
              "      <th>Data_type</th>\n",
              "    </tr>\n",
              "  </thead>\n",
              "  <tbody>\n",
              "    <tr>\n",
              "      <th>0</th>\n",
              "      <td>Age</td>\n",
              "      <td>110762</td>\n",
              "      <td>39.72</td>\n",
              "      <td>float64</td>\n",
              "    </tr>\n",
              "    <tr>\n",
              "      <th>1</th>\n",
              "      <td>User-ID</td>\n",
              "      <td>0</td>\n",
              "      <td>0.00</td>\n",
              "      <td>int64</td>\n",
              "    </tr>\n",
              "    <tr>\n",
              "      <th>2</th>\n",
              "      <td>Location</td>\n",
              "      <td>0</td>\n",
              "      <td>0.00</td>\n",
              "      <td>object</td>\n",
              "    </tr>\n",
              "  </tbody>\n",
              "</table>\n",
              "</div>"
            ],
            "text/plain": [
              "      index  Missing Values  Missing Values % Data_type\n",
              "0       Age          110762             39.72   float64\n",
              "1   User-ID               0              0.00     int64\n",
              "2  Location               0              0.00    object"
            ]
          },
          "metadata": {},
          "execution_count": 13
        }
      ]
    },
    {
      "cell_type": "markdown",
      "metadata": {
        "id": "jRnLXhg-tk5-"
      },
      "source": [
        "Age column have 39.7% of missing value"
      ]
    },
    {
      "cell_type": "code",
      "metadata": {
        "colab": {
          "base_uri": "https://localhost:8080/"
        },
        "id": "drWdHA7VPC9f",
        "outputId": "5d065ec7-13be-4471-a737-f6d17dde1f48"
      },
      "source": [
        "#how many unique value present in location\n",
        "users_df['Location'].nunique()"
      ],
      "execution_count": 14,
      "outputs": [
        {
          "output_type": "execute_result",
          "data": {
            "text/plain": [
              "57339"
            ]
          },
          "metadata": {},
          "execution_count": 14
        }
      ]
    },
    {
      "cell_type": "code",
      "metadata": {
        "colab": {
          "base_uri": "https://localhost:8080/"
        },
        "id": "iecAto0Cay1W",
        "outputId": "88920d06-ecf1-45b9-fc38-ec1394251e70"
      },
      "source": [
        "users_df['Location']"
      ],
      "execution_count": 15,
      "outputs": [
        {
          "output_type": "execute_result",
          "data": {
            "text/plain": [
              "0                         nyc, new york, usa\n",
              "1                  stockton, california, usa\n",
              "2            moscow, yukon territory, russia\n",
              "3                  porto, v.n.gaia, portugal\n",
              "4         farnborough, hants, united kingdom\n",
              "                         ...                \n",
              "278853                 portland, oregon, usa\n",
              "278854    tacoma, washington, united kingdom\n",
              "278855             brampton, ontario, canada\n",
              "278856             knoxville, tennessee, usa\n",
              "278857                  dublin, n/a, ireland\n",
              "Name: Location, Length: 278858, dtype: object"
            ]
          },
          "metadata": {},
          "execution_count": 15
        }
      ]
    },
    {
      "cell_type": "code",
      "metadata": {
        "colab": {
          "base_uri": "https://localhost:8080/"
        },
        "id": "vDv2XqK1PChB",
        "outputId": "424819c2-8fd8-4ea1-9d54-ccc73b49b9de"
      },
      "source": [
        "#what's unique value present in location\n",
        "users_df['Location'].unique()"
      ],
      "execution_count": 16,
      "outputs": [
        {
          "output_type": "execute_result",
          "data": {
            "text/plain": [
              "array(['nyc, new york, usa', 'stockton, california, usa',\n",
              "       'moscow, yukon territory, russia', ...,\n",
              "       'sergnano, lombardia, italy', 'stranraer, n/a, united kingdom',\n",
              "       'tacoma, washington, united kingdom'], dtype=object)"
            ]
          },
          "metadata": {},
          "execution_count": 16
        }
      ]
    },
    {
      "cell_type": "markdown",
      "metadata": {
        "id": "UwJB4kP-h4tu"
      },
      "source": [
        "### **Feature Engineering**"
      ]
    },
    {
      "cell_type": "code",
      "metadata": {
        "id": "5I3IeN6QEdW7"
      },
      "source": [
        "#extract country name from location column\n",
        "for i in users_df:\n",
        "    users_df['Country'] = users_df['Location'].str.extract(r'\\,+\\s?(\\w*\\s?\\w*)\\\"*$')   "
      ],
      "execution_count": 17,
      "outputs": []
    },
    {
      "cell_type": "code",
      "metadata": {
        "colab": {
          "base_uri": "https://localhost:8080/"
        },
        "id": "O8BXhVnmQXgv",
        "outputId": "2d5ffc22-5506-407a-b4d0-f734c09bc7e2"
      },
      "source": [
        "#how many unique value present in Country column\n",
        "users_df['Country'].nunique()"
      ],
      "execution_count": 18,
      "outputs": [
        {
          "output_type": "execute_result",
          "data": {
            "text/plain": [
              "529"
            ]
          },
          "metadata": {},
          "execution_count": 18
        }
      ]
    },
    {
      "cell_type": "code",
      "metadata": {
        "id": "Hz89lOj_AkBD"
      },
      "source": [
        "#drop location column\n",
        "users_df = users_df.drop('Location',axis=1)"
      ],
      "execution_count": 19,
      "outputs": []
    },
    {
      "cell_type": "code",
      "metadata": {
        "colab": {
          "base_uri": "https://localhost:8080/",
          "height": 144
        },
        "id": "vb1nF_3aJqB-",
        "outputId": "08003121-cb7c-4c1e-d23d-f8d8d63b1b0c"
      },
      "source": [
        "#checking missing value after extracting country name\n",
        "check_missing_values(users_df)"
      ],
      "execution_count": 20,
      "outputs": [
        {
          "output_type": "execute_result",
          "data": {
            "text/html": [
              "<div>\n",
              "<style scoped>\n",
              "    .dataframe tbody tr th:only-of-type {\n",
              "        vertical-align: middle;\n",
              "    }\n",
              "\n",
              "    .dataframe tbody tr th {\n",
              "        vertical-align: top;\n",
              "    }\n",
              "\n",
              "    .dataframe thead th {\n",
              "        text-align: right;\n",
              "    }\n",
              "</style>\n",
              "<table border=\"1\" class=\"dataframe\">\n",
              "  <thead>\n",
              "    <tr style=\"text-align: right;\">\n",
              "      <th></th>\n",
              "      <th>index</th>\n",
              "      <th>Missing Values</th>\n",
              "      <th>Missing Values %</th>\n",
              "      <th>Data_type</th>\n",
              "    </tr>\n",
              "  </thead>\n",
              "  <tbody>\n",
              "    <tr>\n",
              "      <th>0</th>\n",
              "      <td>Age</td>\n",
              "      <td>110762</td>\n",
              "      <td>39.72</td>\n",
              "      <td>float64</td>\n",
              "    </tr>\n",
              "    <tr>\n",
              "      <th>1</th>\n",
              "      <td>Country</td>\n",
              "      <td>368</td>\n",
              "      <td>0.13</td>\n",
              "      <td>object</td>\n",
              "    </tr>\n",
              "    <tr>\n",
              "      <th>2</th>\n",
              "      <td>User-ID</td>\n",
              "      <td>0</td>\n",
              "      <td>0.00</td>\n",
              "      <td>int64</td>\n",
              "    </tr>\n",
              "  </tbody>\n",
              "</table>\n",
              "</div>"
            ],
            "text/plain": [
              "     index  Missing Values  Missing Values % Data_type\n",
              "0      Age          110762             39.72   float64\n",
              "1  Country             368              0.13    object\n",
              "2  User-ID               0              0.00     int64"
            ]
          },
          "metadata": {},
          "execution_count": 20
        }
      ]
    },
    {
      "cell_type": "code",
      "metadata": {
        "id": "HUvqIhWgGnFB"
      },
      "source": [
        "#changing datatype of country column as string\n",
        "users_df['Country'] = users_df['Country'].astype('str')"
      ],
      "execution_count": 21,
      "outputs": []
    },
    {
      "cell_type": "code",
      "metadata": {
        "colab": {
          "base_uri": "https://localhost:8080/"
        },
        "id": "qtj-GdJODSx4",
        "outputId": "e149702b-7493-4b60-9dbc-23b88895e5ad"
      },
      "source": [
        "#exploring all country name\n",
        "a=list(users_df['Country'].unique())\n",
        "a=set(a)\n",
        "a=list(a)\n",
        "a = [x for x in a if x is not None]\n",
        "a.sort()\n",
        "print(a)"
      ],
      "execution_count": 22,
      "outputs": [
        {
          "output_type": "stream",
          "name": "stdout",
          "text": [
            "['', '01776', '02458', '19104', '23232', '30064', '85021', '87510', '_ brasil', 'a', 'aaa', 'adsgfdr', 'afghanistan', 'ahrensburg', 'alachua', 'albania', 'alderney', 'algeria', 'algérie', 'allen', 'ama lurra', 'america', 'american samoa', 'andorra', 'angola', 'antarctica', 'aotearoa', 'argentina', 'armenia', 'aroostook', 'aruba', 'asturies', 'auckland', 'austbritania', 'australia', 'australii', 'austria', 'autralia', 'az', 'azerbaijan', 'bademn würtemberg', 'bahamas', 'bahrain', 'baltimore', 'bangladesh', 'barbados', 'basilicata', 'basque country', 'bavaria', 'baxter', 'bbbzzzzz', 'belarus', 'belgi', 'belgique', 'belgium', 'belize', 'bell', 'benin', 'berguedà', 'bermuda', 'bernalillo', 'bfe', 'bhutan', 'bih', 'bkk', 'bladen', 'bolivia', 'bosnia', 'botswana', 'brasil', 'brazil', 'brunei', 'brunei darussalam', 'bucks', 'bulgaria', 'buncombe', 'burkina faso', 'burkinafasu', 'burlington', 'burma', 'butler', 'c', 'cadd0', 'calabria', 'california', 'cambodia', 'camden', 'cameroon', 'can', 'canada', 'canada eh', 'cananda', 'canda', 'cape may', 'cape town', 'cape verde', 'caribbean sea', 'carter', 'cass', 'catalonia', 'catalunya', 'catalunya spain', 'cayman islands', 'chad', 'channel islands', 'cherokee', 'chian', 'chile', 'china', 'china öð¹ú', 'chinaöð¹ú', 'clackamas', 'clinton', 'cn', 'cnina', 'collin', 'colombia', 'comoros', 'congo', 'cook', 'copenhagen', 'costa rica', 'country', 'courtenay', 'croatia', 'csa', 'cuba', 'cyprus', 'czech republic', 'côte d', 'dauphin', 'davidson', 'de', 'dekalb', 'denmark', 'der', 'deutsches reich', 'deutschland', 'dfg', 'distrito federal', 'diy', 'djibouti', 'dominica', 'dominican republic', 'doodedoo', 'dublin', 'east africa', 'ecuador', 'effingham', 'egypt', 'el salvador', 'england', 'england uk', 'english', 'equatorial geuinea', 'eritrea', 'españa', 'essex', 'estonia', 'ethiopia', 'europa', 'europe', 'euskadi', 'euskal herria', 'evil empire', 'fairyland', 'faroe islands', 'ferrara', 'fifi', 'fiji', 'finland', 'fontana', 'fort bend', 'fortaleza', 'framingham', 'france', 'fred', 'frome', 'fulton', 'gabon', 'galiza', 'galiza neghra', 'gb', 'geermany', 'georgia', 'germany', 'germay', 'ghana', 'goteborg', 'granville', 'greece', 'grenada', 'guam', 'guatemala', 'guernsey', 'guinea', 'guyana', 'haiti', 'hamilton', 'hampden', 'harvatija', 'heaven', 'hennipen', 'henry', 'hernando', 'hidalgo', 'hillsborough', 'holland', 'holy see', 'honduras', 'hong kong', 'hongkong', 'hornyonic', 'houston', 'hungary', 'iceland', 'id', 'il canada', 'in', 'india', 'indiai', 'indonesia', 'input error', 'iran', 'iraq', 'ireland', 'israel', 'isreal', 'italia', 'italien', 'italy', 'itlay', 'jackson', 'jamaica', 'japan', 'jersey', 'johnson', 'jordan', 'k1c7b1', 'kazakhstan', 'kenya', 'kern', 'kiribati', 'korea', 'kosovo', 'ksa', 'kuwait', 'kyrgyzstan', 'kz', 'l', 'la argentina', 'la belgique', 'la france', 'la suisse', 'la svizzera', 'lake', 'lane', 'laos', 'latvia', 'lazio', 'le canada', 'le madagascar', 'lebanon', 'lecce', 'lee', 'lesotho', 'liaoning', 'liberia', 'libya', 'lithuania', 'liushi', 'livingston', 'lj', 'lkjlj', 'lleida', 'lombardia', 'london', 'lornsenland', 'luxembourg', 'macau', 'macedonia', 'madagascar', 'madrid', 'maine', 'malawi', 'malaysia', 'malaysian', 'maldives', 'mali', 'malta', 'maracopa', 'maricopa', 'maroc', 'marrion', 'marshall islands', 'mauritania', 'mauritius', 'mexico', 'micronesia', 'milano', 'minnehaha', 'missouri', 'moldova', 'monaco', 'mongolia', 'monroe', 'monterrey', 'mordor', 'morgan', 'morocco', 'mozambique', 'moçambique', 'my', 'myanmar', 'mérida', 'méxico', 'namibia', 'nan', 'nederlands', 'nepal', 'netherlands', 'netherlands antilles', 'neverland', 'new london', 'new zealand', 'newzealand', 'nh', 'nicaragua', 'niger', 'nigeria', 'nl', 'no more', 'none', 'north carolina', 'north korea', 'northern ireland', 'norway', 'nowhere', 'nrw', 'nyc', 'nyhamnsläge', 'nz', 'oakland', 'ohio', 'oman', 'onondaga nation', 'orange co', 'orense', 'osceola', 'ouranos', 'pa', 'pakistan', 'palau', 'palestine', 'palm beach', 'panama', 'paraguay', 'pasco', 'pender', 'peru', 'perãº', 'petrolwar nation', 'phila', 'philippine', 'philippines', 'philippinies', 'phillipines', 'phils', 'phippines', 'pinallas', 'pippo', 'pistlavakia', 'poland', 'polk', 'polska', 'portugal', 'pr', 'prc', 'prince william', 'pueblo', 'puerto rico', 'qatar', 'queensland', 'queenspark', 'quit', 'rapides', 'rice', 'richmond country', 'rmi', 'roma', 'romania', 'rosario', 'rosello', 'rsa', 'russia', 'russian federation', 'rutherford', 'rwanda', 'saint loius', 'saint lucia', 'saint luica', 'samoa', 'san bernardino', 'san franicsco', 'san marino', 'san mateo', 'santa barbara', 'sardegna', 'sardinia', 'saudi arabia', 'saudia arabia', 'scotland', 'senegal', 'serbia', 'shelby', 'sicilia', 'sierra leone', 'singapore', 'slo', 'slovak republik', 'slovakia', 'slovenia', 'smith', 'solano', 'solomon islands', 'somalia', 'somewherein space', 'south africa', 'south korea', 'space', 'spain', 'spotsylvania', 'sri lanka', 'srilanka', 'strongbadia', 'sudan', 'suisse', 'suriname', 'swaziland', 'swazilandia', 'sweden', 'switzerland', 'syria', 'taiwan', 'tajikistan', 'tanzania', 'tdzimi', 'texas', 'thailand', 'thailoand', 'the', 'the gambia', 'the netherlands', 'the philippines', 'thing', 'tobago', 'togo', 'tonga', 'toscana', 'travelling', 'trinidad', 'tunisia', 'turkei', 'turkey', 'turkmenistan', 'tyrtyrt', 'türkiye', 'u', 'u k', 'ua', 'uae', 'uganda', 'uk', 'ukrain', 'ukraine', 'unit', 'unite states', 'united kindgdom', 'united kindgonm', 'united kingdom', 'united sates', 'united staes', 'united state', 'united statea', 'united stated', 'united states', 'universe', 'unknown', 'urugua', 'uruguay', 'us', 'usa', 'ussurfing', 'ust', 'uusa', 'uyo', 'uzbekistan', 'valtesse', 'van wert', 'vanuatu', 'vatican city', 'venezuela', 'ventura', 'ventura county', 'vicenza', 'victoria', 'vietnam', 'vorce', 'wales', 'washtenaw', 'west yorkshire', 'whatcom', 'windham', 'wonderful usa', 'wood', 'worcester', 'x', 'xinyu', 'xxxxxx', 'yakima', 'yanhill', 'yemen', 'ysa', 'yugoslavia', 'yunling', 'z', 'zambia', 'zhengjiang', 'zimbabwe', 'öð¹ú']\n"
          ]
        }
      ]
    },
    {
      "cell_type": "markdown",
      "metadata": {
        "id": "9wYEO1lZAPaJ"
      },
      "source": [
        "Some country name has Misspelled"
      ]
    },
    {
      "cell_type": "code",
      "metadata": {
        "id": "08pPo0YCHoT-"
      },
      "source": [
        "#replacing country name with correct spelling\n",
        "users_df['Country'].replace(['','01776','02458','19104','23232','30064','85021','87510','alachua','america','austria','autralia','cananda','geermany','italia','united kindgonm','united sates','united staes','united state','united states','us'],\n",
        "                           ['other','usa','usa','usa','usa','usa','usa','usa','usa','usa','australia','australia','canada','germany','italy','united kingdom','usa','usa','usa','usa','usa'],inplace=True)"
      ],
      "execution_count": 23,
      "outputs": []
    },
    {
      "cell_type": "code",
      "metadata": {
        "colab": {
          "base_uri": "https://localhost:8080/",
          "height": 461
        },
        "id": "_qnrT9Zzi4GM",
        "outputId": "293cc629-7e81-43ff-c2cd-630daaf2b52d"
      },
      "source": [
        "#Visualize top 10 count of users country-wise\n",
        "plt.figure(figsize=(12,6))\n",
        "sns.countplot('Country',data = users_df,order=users_df['Country'].value_counts().iloc[:10].index)\n",
        "plt.title('users country-wise')\n",
        "plt.xticks(rotation=50)\n",
        "plt.show()"
      ],
      "execution_count": 24,
      "outputs": [
        {
          "output_type": "display_data",
          "data": {
            "image/png": "[encoded data removed]",
            "text/plain": [
              "<Figure size 864x432 with 1 Axes>"
            ]
          },
          "metadata": {
            "needs_background": "light"
          }
        }
      ]
    },
    {
      "cell_type": "markdown",
      "metadata": {
        "id": "N4tf9MTJlXG8"
      },
      "source": [
        "Most of the users belongs to the USA"
      ]
    },
    {
      "cell_type": "code",
      "metadata": {
        "colab": {
          "base_uri": "https://localhost:8080/",
          "height": 295
        },
        "id": "j7i4E5ldYZ6N",
        "outputId": "d047bc4a-5a4e-45ec-81a3-42963352e049"
      },
      "source": [
        "#Age column feature\n",
        "users_df['Age'].hist(bins=[0, 10, 20, 30, 40, 50, 60, 70, 80, 90, 100])\n",
        "plt.title('Age Distribution')\n",
        "plt.xlabel('Age')\n",
        "plt.ylabel('Count')\n",
        "plt.show()"
      ],
      "execution_count": 25,
      "outputs": [
        {
          "output_type": "display_data",
          "data": {
            "image/png": "[encoded data removed]",
            "text/plain": [
              "<Figure size 432x288 with 1 Axes>"
            ]
          },
          "metadata": {
            "needs_background": "light"
          }
        }
      ]
    },
    {
      "cell_type": "markdown",
      "metadata": {
        "id": "NhnldSNBvHhl"
      },
      "source": [
        "Most of user belongs to 20 to 30 years, then 30 to 40 years"
      ]
    },
    {
      "cell_type": "markdown",
      "metadata": {
        "id": "_vR_TTEuiMHw"
      },
      "source": [
        "### **Outliers detection**"
      ]
    },
    {
      "cell_type": "code",
      "metadata": {
        "colab": {
          "base_uri": "https://localhost:8080/",
          "height": 295
        },
        "id": "CJYKBc60PC_p",
        "outputId": "13f5a8d4-427e-48de-9fdd-6c6d1b2a3693"
      },
      "source": [
        "#checking outliers in Age column\n",
        "sns.boxplot('Age', data = users_df)\n",
        "plt.title('outliers in Age column')\n",
        "plt.show()"
      ],
      "execution_count": 26,
      "outputs": [
        {
          "output_type": "display_data",
          "data": {
            "image/png": "[encoded data removed]",
            "text/plain": [
              "<Figure size 432x288 with 1 Axes>"
            ]
          },
          "metadata": {
            "needs_background": "light"
          }
        }
      ]
    },
    {
      "cell_type": "markdown",
      "metadata": {
        "id": "m8YoFhiqzDqe"
      },
      "source": [
        "In this datset have outliers we need to remove the outliers"
      ]
    },
    {
      "cell_type": "code",
      "metadata": {
        "colab": {
          "base_uri": "https://localhost:8080/",
          "height": 295
        },
        "id": "6U6o5VHZN8F5",
        "outputId": "e759ba9e-73ff-40b8-9008-3743409cd1d6"
      },
      "source": [
        "#Distribution plot of Age column\n",
        "sns.distplot(users_df['Age'])\n",
        "plt.title('Age Distribution Plot')\n",
        "plt.show()"
      ],
      "execution_count": 27,
      "outputs": [
        {
          "output_type": "display_data",
          "data": {
            "image/png": "[encoded data removed]",
            "text/plain": [
              "<Figure size 432x288 with 1 Axes>"
            ]
          },
          "metadata": {
            "needs_background": "light"
          }
        }
      ]
    },
    {
      "cell_type": "markdown",
      "metadata": {
        "id": "p8sf-ZKzSp0W"
      },
      "source": [
        "Age value's below 5 and above 100 do not make much sense for our book rating. hence remove these values"
      ]
    },
    {
      "cell_type": "code",
      "metadata": {
        "id": "Qqd7j7PxOGOn"
      },
      "source": [
        "#outliers data replacing by NaN\n",
        "users_df.loc[(users_df.Age > 100) | (users_df.Age < 5), 'Age'] = np.nan"
      ],
      "execution_count": 28,
      "outputs": []
    },
    {
      "cell_type": "code",
      "metadata": {
        "colab": {
          "base_uri": "https://localhost:8080/"
        },
        "id": "rxuFQN2iW5Ps",
        "outputId": "637327fd-aa47-4d23-d458-867d932844b7"
      },
      "source": [
        "#Checking Null Value after treated outliers\n",
        "users_df.isna().sum()"
      ],
      "execution_count": 29,
      "outputs": [
        {
          "output_type": "execute_result",
          "data": {
            "text/plain": [
              "User-ID         0\n",
              "Age        112010\n",
              "Country         0\n",
              "dtype: int64"
            ]
          },
          "metadata": {},
          "execution_count": 29
        }
      ]
    },
    {
      "cell_type": "markdown",
      "metadata": {
        "id": "L1gbeTBliab3"
      },
      "source": [
        "### **Null values treatment**"
      ]
    },
    {
      "cell_type": "markdown",
      "metadata": {
        "id": "89HKEqaPskvA"
      },
      "source": [
        "we fill NaN value in Age column by median with country-wise"
      ]
    },
    {
      "cell_type": "code",
      "metadata": {
        "id": "_v3v-dzqOF9B"
      },
      "source": [
        "#fill na with median country-wise\n",
        "users_df['Age'] = users_df['Age'].fillna(users_df.groupby('Country')['Age'].transform('median'))"
      ],
      "execution_count": 30,
      "outputs": []
    },
    {
      "cell_type": "code",
      "metadata": {
        "colab": {
          "base_uri": "https://localhost:8080/"
        },
        "id": "ax2IR0ZfWtgT",
        "outputId": "44b8adc4-b0e8-4b52-e957-168e77f65927"
      },
      "source": [
        "#Checking Null Value after fill null value\n",
        "users_df.isna().sum()"
      ],
      "execution_count": 31,
      "outputs": [
        {
          "output_type": "execute_result",
          "data": {
            "text/plain": [
              "User-ID      0\n",
              "Age        276\n",
              "Country      0\n",
              "dtype: int64"
            ]
          },
          "metadata": {},
          "execution_count": 31
        }
      ]
    },
    {
      "cell_type": "markdown",
      "metadata": {
        "id": "oEsr47TQtv12"
      },
      "source": [
        "still Age column have 276 NaN value, now fill NaN with mean value"
      ]
    },
    {
      "cell_type": "code",
      "metadata": {
        "id": "H-c78VbJXGoW"
      },
      "source": [
        "#fill na with mean\n",
        "users_df['Age'] = users_df['Age'].fillna(users_df.Age.mean())"
      ],
      "execution_count": 32,
      "outputs": []
    },
    {
      "cell_type": "code",
      "metadata": {
        "colab": {
          "base_uri": "https://localhost:8080/"
        },
        "id": "NGI-WpyKXqat",
        "outputId": "9586c9c5-f010-4e30-ba0d-a622e4db47f2"
      },
      "source": [
        "#Checking Null Value\n",
        "users_df.isna().sum()"
      ],
      "execution_count": 33,
      "outputs": [
        {
          "output_type": "execute_result",
          "data": {
            "text/plain": [
              "User-ID    0\n",
              "Age        0\n",
              "Country    0\n",
              "dtype: int64"
            ]
          },
          "metadata": {},
          "execution_count": 33
        }
      ]
    },
    {
      "cell_type": "markdown",
      "metadata": {
        "id": "GDgwVVAfZCvX"
      },
      "source": [
        "## **2.)Books_Dataset**"
      ]
    },
    {
      "cell_type": "code",
      "metadata": {
        "colab": {
          "base_uri": "https://localhost:8080/",
          "height": 435
        },
        "id": "kT-MU-UgZCZX",
        "outputId": "2cb2d774-93d5-406c-a58a-a42b1119bd1a"
      },
      "source": [
        "#5 datapoints from books_df dataset\n",
        "books_df.head()"
      ],
      "execution_count": 34,
      "outputs": [
        {
          "output_type": "execute_result",
          "data": {
            "text/html": [
              "<div>\n",
              "<style scoped>\n",
              "    .dataframe tbody tr th:only-of-type {\n",
              "        vertical-align: middle;\n",
              "    }\n",
              "\n",
              "    .dataframe tbody tr th {\n",
              "        vertical-align: top;\n",
              "    }\n",
              "\n",
              "    .dataframe thead th {\n",
              "        text-align: right;\n",
              "    }\n",
              "</style>\n",
              "<table border=\"1\" class=\"dataframe\">\n",
              "  <thead>\n",
              "    <tr style=\"text-align: right;\">\n",
              "      <th></th>\n",
              "      <th>ISBN</th>\n",
              "      <th>Book-Title</th>\n",
              "      <th>Book-Author</th>\n",
              "      <th>Year-Of-Publication</th>\n",
              "      <th>Publisher</th>\n",
              "      <th>Image-URL-S</th>\n",
              "      <th>Image-URL-M</th>\n",
              "      <th>Image-URL-L</th>\n",
              "    </tr>\n",
              "  </thead>\n",
              "  <tbody>\n",
              "    <tr>\n",
              "      <th>0</th>\n",
              "      <td>0195153448</td>\n",
              "      <td>Classical Mythology</td>\n",
              "      <td>Mark P. O. Morford</td>\n",
              "      <td>2002</td>\n",
              "      <td>Oxford University Press</td>\n",
              "      <td>http://images.amazon.com/images/P/0195153448.0...</td>\n",
              "      <td>http://images.amazon.com/images/P/0195153448.0...</td>\n",
              "      <td>http://images.amazon.com/images/P/0195153448.0...</td>\n",
              "    </tr>\n",
              "    <tr>\n",
              "      <th>1</th>\n",
              "      <td>0002005018</td>\n",
              "      <td>Clara Callan</td>\n",
              "      <td>Richard Bruce Wright</td>\n",
              "      <td>2001</td>\n",
              "      <td>HarperFlamingo Canada</td>\n",
              "      <td>http://images.amazon.com/images/P/0002005018.0...</td>\n",
              "      <td>http://images.amazon.com/images/P/0002005018.0...</td>\n",
              "      <td>http://images.amazon.com/images/P/0002005018.0...</td>\n",
              "    </tr>\n",
              "    <tr>\n",
              "      <th>2</th>\n",
              "      <td>0060973129</td>\n",
              "      <td>Decision in Normandy</td>\n",
              "      <td>Carlo D'Este</td>\n",
              "      <td>1991</td>\n",
              "      <td>HarperPerennial</td>\n",
              "      <td>http://images.amazon.com/images/P/0060973129.0...</td>\n",
              "      <td>http://images.amazon.com/images/P/0060973129.0...</td>\n",
              "      <td>http://images.amazon.com/images/P/0060973129.0...</td>\n",
              "    </tr>\n",
              "    <tr>\n",
              "      <th>3</th>\n",
              "      <td>0374157065</td>\n",
              "      <td>Flu: The Story of the Great Influenza Pandemic...</td>\n",
              "      <td>Gina Bari Kolata</td>\n",
              "      <td>1999</td>\n",
              "      <td>Farrar Straus Giroux</td>\n",
              "      <td>http://images.amazon.com/images/P/0374157065.0...</td>\n",
              "      <td>http://images.amazon.com/images/P/0374157065.0...</td>\n",
              "      <td>http://images.amazon.com/images/P/0374157065.0...</td>\n",
              "    </tr>\n",
              "    <tr>\n",
              "      <th>4</th>\n",
              "      <td>0393045218</td>\n",
              "      <td>The Mummies of Urumchi</td>\n",
              "      <td>E. J. W. Barber</td>\n",
              "      <td>1999</td>\n",
              "      <td>W. W. Norton &amp;amp; Company</td>\n",
              "      <td>http://images.amazon.com/images/P/0393045218.0...</td>\n",
              "      <td>http://images.amazon.com/images/P/0393045218.0...</td>\n",
              "      <td>http://images.amazon.com/images/P/0393045218.0...</td>\n",
              "    </tr>\n",
              "  </tbody>\n",
              "</table>\n",
              "</div>"
            ],
            "text/plain": [
              "         ISBN  ...                                        Image-URL-L\n",
              "0  0195153448  ...  http://images.amazon.com/images/P/0195153448.0...\n",
              "1  0002005018  ...  http://images.amazon.com/images/P/0002005018.0...\n",
              "2  0060973129  ...  http://images.amazon.com/images/P/0060973129.0...\n",
              "3  0374157065  ...  http://images.amazon.com/images/P/0374157065.0...\n",
              "4  0393045218  ...  http://images.amazon.com/images/P/0393045218.0...\n",
              "\n",
              "[5 rows x 8 columns]"
            ]
          },
          "metadata": {},
          "execution_count": 34
        }
      ]
    },
    {
      "cell_type": "markdown",
      "metadata": {
        "id": "FTaAL22famEf"
      },
      "source": [
        "**Which Author have written more book**"
      ]
    },
    {
      "cell_type": "code",
      "metadata": {
        "colab": {
          "base_uri": "https://localhost:8080/",
          "height": 480
        },
        "id": "ax2yMAvZZcVL",
        "outputId": "007bcd30-a1d7-4ffc-8efb-85c65122182e"
      },
      "source": [
        "#Visualise top 10 Authors\n",
        "plt.figure(figsize=(12,6))\n",
        "sns.countplot('Book-Author',data = books_df,order = books_df['Book-Author'].value_counts().iloc[:10].index)\n",
        "plt.title('Top 10 Authors')\n",
        "plt.xticks(rotation=50)\n",
        "plt.show()"
      ],
      "execution_count": 35,
      "outputs": [
        {
          "output_type": "display_data",
          "data": {
            "image/png": "[encoded data removed]",
            "text/plain": [
              "<Figure size 864x432 with 1 Axes>"
            ]
          },
          "metadata": {
            "needs_background": "light"
          }
        }
      ]
    },
    {
      "cell_type": "markdown",
      "metadata": {
        "id": "hQ8-oeeBwuZi"
      },
      "source": [
        "Agatha Christie is the top Author"
      ]
    },
    {
      "cell_type": "markdown",
      "metadata": {
        "id": "1ZIyttUBxweT"
      },
      "source": [
        "**Which Publisher have Published more book**"
      ]
    },
    {
      "cell_type": "code",
      "metadata": {
        "colab": {
          "base_uri": "https://localhost:8080/",
          "height": 497
        },
        "id": "iDqUIosnZcS_",
        "outputId": "623e0fac-3503-4288-de87-894b8f6a0b6f"
      },
      "source": [
        "#Visualize Top 10 Publishers\n",
        "plt.figure(figsize=(12,6))\n",
        "sns.countplot('Publisher',data = books_df,order = books_df['Publisher'].value_counts().iloc[:10].index)\n",
        "plt.title('Top 10 Publishers')\n",
        "plt.xticks(rotation=50)\n",
        "plt.show()"
      ],
      "execution_count": 36,
      "outputs": [
        {
          "output_type": "display_data",
          "data": {
            "image/png": "[encoded data removed]",
            "text/plain": [
              "<Figure size 864x432 with 1 Axes>"
            ]
          },
          "metadata": {
            "needs_background": "light"
          }
        }
      ]
    },
    {
      "cell_type": "markdown",
      "metadata": {
        "id": "AMmA0B8gy-xf"
      },
      "source": [
        "Harlequin is the top Publisher"
      ]
    },
    {
      "cell_type": "code",
      "metadata": {
        "colab": {
          "base_uri": "https://localhost:8080/"
        },
        "id": "3QBzuvDtZcQy",
        "outputId": "c5d68a82-42da-4775-eeb3-696474b9f484"
      },
      "source": [
        "#unique value of Publication year\n",
        "books_df['Year-Of-Publication'] = books_df['Year-Of-Publication'].astype('str')\n",
        "a = list(books_df['Year-Of-Publication'].unique())\n",
        "a = set(a)\n",
        "a = list(a)\n",
        "a = [x for x in a if x is not None]\n",
        "a.sort()\n",
        "print(a)"
      ],
      "execution_count": 37,
      "outputs": [
        {
          "output_type": "stream",
          "name": "stdout",
          "text": [
            "['0', '1376', '1378', '1806', '1897', '1900', '1901', '1902', '1904', '1906', '1908', '1909', '1910', '1911', '1914', '1917', '1919', '1920', '1921', '1922', '1923', '1924', '1925', '1926', '1927', '1928', '1929', '1930', '1931', '1932', '1933', '1934', '1935', '1936', '1937', '1938', '1939', '1940', '1941', '1942', '1943', '1944', '1945', '1946', '1947', '1948', '1949', '1950', '1951', '1952', '1953', '1954', '1955', '1956', '1957', '1958', '1959', '1960', '1961', '1962', '1963', '1964', '1965', '1966', '1967', '1968', '1969', '1970', '1971', '1972', '1973', '1974', '1975', '1976', '1977', '1978', '1979', '1980', '1981', '1982', '1983', '1984', '1985', '1986', '1987', '1988', '1989', '1990', '1991', '1992', '1993', '1994', '1995', '1996', '1997', '1998', '1999', '2000', '2001', '2002', '2003', '2004', '2005', '2006', '2008', '2010', '2011', '2012', '2020', '2021', '2024', '2026', '2030', '2037', '2038', '2050', 'DK Publishing Inc', 'Gallimard']\n"
          ]
        }
      ]
    },
    {
      "cell_type": "code",
      "metadata": {
        "colab": {
          "base_uri": "https://localhost:8080/",
          "height": 375
        },
        "id": "lh_ud6IRfaQR",
        "outputId": "e8b6048c-8a2e-4876-d456-9625bddc54e2"
      },
      "source": [
        "#checking the row having 'DK Publishing Inc' as Year-Of-Publication\n",
        "books_df.loc[books_df['Year-Of-Publication'] == 'DK Publishing Inc',:]"
      ],
      "execution_count": 38,
      "outputs": [
        {
          "output_type": "execute_result",
          "data": {
            "text/html": [
              "<div>\n",
              "<style scoped>\n",
              "    .dataframe tbody tr th:only-of-type {\n",
              "        vertical-align: middle;\n",
              "    }\n",
              "\n",
              "    .dataframe tbody tr th {\n",
              "        vertical-align: top;\n",
              "    }\n",
              "\n",
              "    .dataframe thead th {\n",
              "        text-align: right;\n",
              "    }\n",
              "</style>\n",
              "<table border=\"1\" class=\"dataframe\">\n",
              "  <thead>\n",
              "    <tr style=\"text-align: right;\">\n",
              "      <th></th>\n",
              "      <th>ISBN</th>\n",
              "      <th>Book-Title</th>\n",
              "      <th>Book-Author</th>\n",
              "      <th>Year-Of-Publication</th>\n",
              "      <th>Publisher</th>\n",
              "      <th>Image-URL-S</th>\n",
              "      <th>Image-URL-M</th>\n",
              "      <th>Image-URL-L</th>\n",
              "    </tr>\n",
              "  </thead>\n",
              "  <tbody>\n",
              "    <tr>\n",
              "      <th>209538</th>\n",
              "      <td>078946697X</td>\n",
              "      <td>DK Readers: Creating the X-Men, How It All Beg...</td>\n",
              "      <td>2000</td>\n",
              "      <td>DK Publishing Inc</td>\n",
              "      <td>http://images.amazon.com/images/P/078946697X.0...</td>\n",
              "      <td>http://images.amazon.com/images/P/078946697X.0...</td>\n",
              "      <td>http://images.amazon.com/images/P/078946697X.0...</td>\n",
              "      <td>NaN</td>\n",
              "    </tr>\n",
              "    <tr>\n",
              "      <th>221678</th>\n",
              "      <td>0789466953</td>\n",
              "      <td>DK Readers: Creating the X-Men, How Comic Book...</td>\n",
              "      <td>2000</td>\n",
              "      <td>DK Publishing Inc</td>\n",
              "      <td>http://images.amazon.com/images/P/0789466953.0...</td>\n",
              "      <td>http://images.amazon.com/images/P/0789466953.0...</td>\n",
              "      <td>http://images.amazon.com/images/P/0789466953.0...</td>\n",
              "      <td>NaN</td>\n",
              "    </tr>\n",
              "  </tbody>\n",
              "</table>\n",
              "</div>"
            ],
            "text/plain": [
              "              ISBN  ... Image-URL-L\n",
              "209538  078946697X  ...         NaN\n",
              "221678  0789466953  ...         NaN\n",
              "\n",
              "[2 rows x 8 columns]"
            ]
          },
          "metadata": {},
          "execution_count": 38
        }
      ]
    },
    {
      "cell_type": "markdown",
      "metadata": {
        "id": "RMzUF1aI2GkY"
      },
      "source": [
        "Year-Of-Publication data exchanged with Book-Author we need to correct the entry of data"
      ]
    },
    {
      "cell_type": "code",
      "metadata": {
        "colab": {
          "base_uri": "https://localhost:8080/",
          "height": 375
        },
        "id": "gYox7oYWZcOF",
        "outputId": "c0d8e418-eb60-4bc3-f2f7-3a8195370823"
      },
      "source": [
        "#From above, it is seen that bookAuthor is incorrectly loaded with bookTitle, hence making required corrections\n",
        "#ISBN '0789466953'\n",
        "books_df.loc[books_df.ISBN == '0789466953','Year-Of-Publication'] = 2000\n",
        "books_df.loc[books_df.ISBN == '0789466953','Book-Author'] = \"James Buckley\"\n",
        "books_df.loc[books_df.ISBN == '0789466953','Publisher'] = \"DK Publishing Inc\"\n",
        "books_df.loc[books_df.ISBN == '0789466953','Book-Title'] = \"DK Readers: Creating the X-Men, How Comic Books Come to Life (Level 4: Proficient Readers)\"\n",
        "\n",
        "#ISBN '078946697X'\n",
        "books_df.loc[books_df.ISBN == '078946697X','Year-Of-Publication'] = 2000\n",
        "books_df.loc[books_df.ISBN == '078946697X','Book-Author'] = \"Michael Teitelbaum\"\n",
        "books_df.loc[books_df.ISBN == '078946697X','Publisher'] = \"DK Publishing Inc\"\n",
        "books_df.loc[books_df.ISBN == '078946697X','Book-Title'] = \"DK Readers: Creating the X-Men, How It All Began (Level 4: Proficient Readers)\"\n",
        "\n",
        "#rechecking\n",
        "books_df.loc[(books_df.ISBN == '0789466953') | (books_df.ISBN == '078946697X'),:]\n",
        "#corrections done"
      ],
      "execution_count": 39,
      "outputs": [
        {
          "output_type": "execute_result",
          "data": {
            "text/html": [
              "<div>\n",
              "<style scoped>\n",
              "    .dataframe tbody tr th:only-of-type {\n",
              "        vertical-align: middle;\n",
              "    }\n",
              "\n",
              "    .dataframe tbody tr th {\n",
              "        vertical-align: top;\n",
              "    }\n",
              "\n",
              "    .dataframe thead th {\n",
              "        text-align: right;\n",
              "    }\n",
              "</style>\n",
              "<table border=\"1\" class=\"dataframe\">\n",
              "  <thead>\n",
              "    <tr style=\"text-align: right;\">\n",
              "      <th></th>\n",
              "      <th>ISBN</th>\n",
              "      <th>Book-Title</th>\n",
              "      <th>Book-Author</th>\n",
              "      <th>Year-Of-Publication</th>\n",
              "      <th>Publisher</th>\n",
              "      <th>Image-URL-S</th>\n",
              "      <th>Image-URL-M</th>\n",
              "      <th>Image-URL-L</th>\n",
              "    </tr>\n",
              "  </thead>\n",
              "  <tbody>\n",
              "    <tr>\n",
              "      <th>209538</th>\n",
              "      <td>078946697X</td>\n",
              "      <td>DK Readers: Creating the X-Men, How It All Beg...</td>\n",
              "      <td>Michael Teitelbaum</td>\n",
              "      <td>2000</td>\n",
              "      <td>DK Publishing Inc</td>\n",
              "      <td>http://images.amazon.com/images/P/078946697X.0...</td>\n",
              "      <td>http://images.amazon.com/images/P/078946697X.0...</td>\n",
              "      <td>NaN</td>\n",
              "    </tr>\n",
              "    <tr>\n",
              "      <th>221678</th>\n",
              "      <td>0789466953</td>\n",
              "      <td>DK Readers: Creating the X-Men, How Comic Book...</td>\n",
              "      <td>James Buckley</td>\n",
              "      <td>2000</td>\n",
              "      <td>DK Publishing Inc</td>\n",
              "      <td>http://images.amazon.com/images/P/0789466953.0...</td>\n",
              "      <td>http://images.amazon.com/images/P/0789466953.0...</td>\n",
              "      <td>NaN</td>\n",
              "    </tr>\n",
              "  </tbody>\n",
              "</table>\n",
              "</div>"
            ],
            "text/plain": [
              "              ISBN  ... Image-URL-L\n",
              "209538  078946697X  ...         NaN\n",
              "221678  0789466953  ...         NaN\n",
              "\n",
              "[2 rows x 8 columns]"
            ]
          },
          "metadata": {},
          "execution_count": 39
        }
      ]
    },
    {
      "cell_type": "code",
      "metadata": {
        "colab": {
          "base_uri": "https://localhost:8080/",
          "height": 170
        },
        "id": "bsR1uhZ_hJQC",
        "outputId": "346a3840-b053-4a26-992e-702707b7d6b0"
      },
      "source": [
        "#checking the row having 'DK Publishing Inc' as Year-Of-Publication\n",
        "books_df.loc[books_df['Year-Of-Publication'] == 'Gallimard',:]"
      ],
      "execution_count": 40,
      "outputs": [
        {
          "output_type": "execute_result",
          "data": {
            "text/html": [
              "<div>\n",
              "<style scoped>\n",
              "    .dataframe tbody tr th:only-of-type {\n",
              "        vertical-align: middle;\n",
              "    }\n",
              "\n",
              "    .dataframe tbody tr th {\n",
              "        vertical-align: top;\n",
              "    }\n",
              "\n",
              "    .dataframe thead th {\n",
              "        text-align: right;\n",
              "    }\n",
              "</style>\n",
              "<table border=\"1\" class=\"dataframe\">\n",
              "  <thead>\n",
              "    <tr style=\"text-align: right;\">\n",
              "      <th></th>\n",
              "      <th>ISBN</th>\n",
              "      <th>Book-Title</th>\n",
              "      <th>Book-Author</th>\n",
              "      <th>Year-Of-Publication</th>\n",
              "      <th>Publisher</th>\n",
              "      <th>Image-URL-S</th>\n",
              "      <th>Image-URL-M</th>\n",
              "      <th>Image-URL-L</th>\n",
              "    </tr>\n",
              "  </thead>\n",
              "  <tbody>\n",
              "    <tr>\n",
              "      <th>220731</th>\n",
              "      <td>2070426769</td>\n",
              "      <td>Peuple du ciel, suivi de 'Les Bergers\\\";Jean-M...</td>\n",
              "      <td>2003</td>\n",
              "      <td>Gallimard</td>\n",
              "      <td>http://images.amazon.com/images/P/2070426769.0...</td>\n",
              "      <td>http://images.amazon.com/images/P/2070426769.0...</td>\n",
              "      <td>http://images.amazon.com/images/P/2070426769.0...</td>\n",
              "      <td>NaN</td>\n",
              "    </tr>\n",
              "  </tbody>\n",
              "</table>\n",
              "</div>"
            ],
            "text/plain": [
              "              ISBN  ... Image-URL-L\n",
              "220731  2070426769  ...         NaN\n",
              "\n",
              "[1 rows x 8 columns]"
            ]
          },
          "metadata": {},
          "execution_count": 40
        }
      ]
    },
    {
      "cell_type": "code",
      "metadata": {
        "colab": {
          "base_uri": "https://localhost:8080/",
          "height": 187
        },
        "id": "XXRqgejwh235",
        "outputId": "288bacba-ffaa-4106-f3ae-f780f9857e32"
      },
      "source": [
        "#making required corrections as above, keeping other fields intact\n",
        "books_df.loc[books_df.ISBN == '2070426769','Year-Of-Publication'] = 2003\n",
        "books_df.loc[books_df.ISBN == '2070426769','Book-Author'] = \"Jean-Marie Gustave Le ClÃ?Â©zio\"\n",
        "books_df.loc[books_df.ISBN == '2070426769','Publisher'] = \"Gallimard\"\n",
        "books_df.loc[books_df.ISBN == '2070426769','Book-Title'] = \"Peuple du ciel, suivi de 'Les Bergers\"\n",
        "\n",
        "\n",
        "books_df.loc[books_df.ISBN == '2070426769',:]"
      ],
      "execution_count": 41,
      "outputs": [
        {
          "output_type": "execute_result",
          "data": {
            "text/html": [
              "<div>\n",
              "<style scoped>\n",
              "    .dataframe tbody tr th:only-of-type {\n",
              "        vertical-align: middle;\n",
              "    }\n",
              "\n",
              "    .dataframe tbody tr th {\n",
              "        vertical-align: top;\n",
              "    }\n",
              "\n",
              "    .dataframe thead th {\n",
              "        text-align: right;\n",
              "    }\n",
              "</style>\n",
              "<table border=\"1\" class=\"dataframe\">\n",
              "  <thead>\n",
              "    <tr style=\"text-align: right;\">\n",
              "      <th></th>\n",
              "      <th>ISBN</th>\n",
              "      <th>Book-Title</th>\n",
              "      <th>Book-Author</th>\n",
              "      <th>Year-Of-Publication</th>\n",
              "      <th>Publisher</th>\n",
              "      <th>Image-URL-S</th>\n",
              "      <th>Image-URL-M</th>\n",
              "      <th>Image-URL-L</th>\n",
              "    </tr>\n",
              "  </thead>\n",
              "  <tbody>\n",
              "    <tr>\n",
              "      <th>220731</th>\n",
              "      <td>2070426769</td>\n",
              "      <td>Peuple du ciel, suivi de 'Les Bergers</td>\n",
              "      <td>Jean-Marie Gustave Le ClÃ?Â©zio</td>\n",
              "      <td>2003</td>\n",
              "      <td>Gallimard</td>\n",
              "      <td>http://images.amazon.com/images/P/2070426769.0...</td>\n",
              "      <td>http://images.amazon.com/images/P/2070426769.0...</td>\n",
              "      <td>NaN</td>\n",
              "    </tr>\n",
              "  </tbody>\n",
              "</table>\n",
              "</div>"
            ],
            "text/plain": [
              "              ISBN  ... Image-URL-L\n",
              "220731  2070426769  ...         NaN\n",
              "\n",
              "[1 rows x 8 columns]"
            ]
          },
          "metadata": {},
          "execution_count": 41
        }
      ]
    },
    {
      "cell_type": "code",
      "metadata": {
        "colab": {
          "base_uri": "https://localhost:8080/"
        },
        "id": "KLadyjMKiL9h",
        "outputId": "37ddf173-5c06-4005-bcab-ed409b00869e"
      },
      "source": [
        "#changing Year-Of-Publication datatypes as numeric\n",
        "books_df['Year-Of-Publication']=pd.to_numeric(books_df['Year-Of-Publication'], errors='coerce')\n",
        "print(sorted(books_df['Year-Of-Publication'].unique()))"
      ],
      "execution_count": 42,
      "outputs": [
        {
          "output_type": "stream",
          "name": "stdout",
          "text": [
            "[0, 1376, 1378, 1806, 1897, 1900, 1901, 1902, 1904, 1906, 1908, 1909, 1910, 1911, 1914, 1917, 1919, 1920, 1921, 1922, 1923, 1924, 1925, 1926, 1927, 1928, 1929, 1930, 1931, 1932, 1933, 1934, 1935, 1936, 1937, 1938, 1939, 1940, 1941, 1942, 1943, 1944, 1945, 1946, 1947, 1948, 1949, 1950, 1951, 1952, 1953, 1954, 1955, 1956, 1957, 1958, 1959, 1960, 1961, 1962, 1963, 1964, 1965, 1966, 1967, 1968, 1969, 1970, 1971, 1972, 1973, 1974, 1975, 1976, 1977, 1978, 1979, 1980, 1981, 1982, 1983, 1984, 1985, 1986, 1987, 1988, 1989, 1990, 1991, 1992, 1993, 1994, 1995, 1996, 1997, 1998, 1999, 2000, 2001, 2002, 2003, 2004, 2005, 2006, 2008, 2010, 2011, 2012, 2020, 2021, 2024, 2026, 2030, 2037, 2038, 2050]\n"
          ]
        }
      ]
    },
    {
      "cell_type": "code",
      "metadata": {
        "id": "UrCpFVzG6pb9",
        "colab": {
          "base_uri": "https://localhost:8080/"
        },
        "outputId": "82af4e48-6e85-4848-8d1d-142781ddfb66"
      },
      "source": [
        "#how many books Year-Of-Publication is greater than 2006\n",
        "books_df[books_df['Year-Of-Publication'] > 2006].count()"
      ],
      "execution_count": 43,
      "outputs": [
        {
          "output_type": "execute_result",
          "data": {
            "text/plain": [
              "ISBN                   23\n",
              "Book-Title             23\n",
              "Book-Author            23\n",
              "Year-Of-Publication    23\n",
              "Publisher              23\n",
              "Image-URL-S            23\n",
              "Image-URL-M            23\n",
              "Image-URL-L            23\n",
              "dtype: int64"
            ]
          },
          "metadata": {},
          "execution_count": 43
        }
      ]
    },
    {
      "cell_type": "code",
      "metadata": {
        "id": "9QyokEaflJ5O"
      },
      "source": [
        "#replacing greater than 2006 and equal to 0 with NaN value of Year-Of-Publication\n",
        "books_df.loc[(books_df['Year-Of-Publication'] > 2006) | (books_df['Year-Of-Publication'] == 0),'Year-Of-Publication'] = np.nan\n",
        "\n",
        "#replacing NaNs with median value of Year-Of-Publication\n",
        "books_df['Year-Of-Publication'].fillna(round(books_df['Year-Of-Publication'].median()), inplace=True)"
      ],
      "execution_count": 44,
      "outputs": []
    },
    {
      "cell_type": "code",
      "metadata": {
        "id": "osjQapzRlyB1"
      },
      "source": [
        "#dropping last three columns containing image URLs which will not be required for analysis\n",
        "books_df = books_df.drop(['Image-URL-S', 'Image-URL-M', 'Image-URL-L'],axis=1)"
      ],
      "execution_count": 45,
      "outputs": []
    },
    {
      "cell_type": "code",
      "metadata": {
        "colab": {
          "base_uri": "https://localhost:8080/"
        },
        "id": "TfLifixPlx_D",
        "outputId": "00e729f1-44d5-4bc8-8474-902a421104f8"
      },
      "source": [
        "#checking missing value\n",
        "books_df.isna().sum()"
      ],
      "execution_count": 46,
      "outputs": [
        {
          "output_type": "execute_result",
          "data": {
            "text/plain": [
              "ISBN                   0\n",
              "Book-Title             0\n",
              "Book-Author            1\n",
              "Year-Of-Publication    0\n",
              "Publisher              2\n",
              "dtype: int64"
            ]
          },
          "metadata": {},
          "execution_count": 46
        }
      ]
    },
    {
      "cell_type": "code",
      "metadata": {
        "colab": {
          "base_uri": "https://localhost:8080/",
          "height": 112
        },
        "id": "qb_ZEgE5lx8y",
        "outputId": "8529c648-7f1b-4538-d9bf-e7f827180d2d"
      },
      "source": [
        "#exploring 'publisher' column\n",
        "books_df.loc[books_df.Publisher.isnull(),:]"
      ],
      "execution_count": 47,
      "outputs": [
        {
          "output_type": "execute_result",
          "data": {
            "text/html": [
              "<div>\n",
              "<style scoped>\n",
              "    .dataframe tbody tr th:only-of-type {\n",
              "        vertical-align: middle;\n",
              "    }\n",
              "\n",
              "    .dataframe tbody tr th {\n",
              "        vertical-align: top;\n",
              "    }\n",
              "\n",
              "    .dataframe thead th {\n",
              "        text-align: right;\n",
              "    }\n",
              "</style>\n",
              "<table border=\"1\" class=\"dataframe\">\n",
              "  <thead>\n",
              "    <tr style=\"text-align: right;\">\n",
              "      <th></th>\n",
              "      <th>ISBN</th>\n",
              "      <th>Book-Title</th>\n",
              "      <th>Book-Author</th>\n",
              "      <th>Year-Of-Publication</th>\n",
              "      <th>Publisher</th>\n",
              "    </tr>\n",
              "  </thead>\n",
              "  <tbody>\n",
              "    <tr>\n",
              "      <th>128890</th>\n",
              "      <td>193169656X</td>\n",
              "      <td>Tyrant Moon</td>\n",
              "      <td>Elaine Corvidae</td>\n",
              "      <td>2002.0</td>\n",
              "      <td>NaN</td>\n",
              "    </tr>\n",
              "    <tr>\n",
              "      <th>129037</th>\n",
              "      <td>1931696993</td>\n",
              "      <td>Finders Keepers</td>\n",
              "      <td>Linnea Sinclair</td>\n",
              "      <td>2001.0</td>\n",
              "      <td>NaN</td>\n",
              "    </tr>\n",
              "  </tbody>\n",
              "</table>\n",
              "</div>"
            ],
            "text/plain": [
              "              ISBN       Book-Title  ... Year-Of-Publication  Publisher\n",
              "128890  193169656X      Tyrant Moon  ...              2002.0        NaN\n",
              "129037  1931696993  Finders Keepers  ...              2001.0        NaN\n",
              "\n",
              "[2 rows x 5 columns]"
            ]
          },
          "metadata": {},
          "execution_count": 47
        }
      ]
    },
    {
      "cell_type": "code",
      "metadata": {
        "id": "9QzBOqE3lx6J"
      },
      "source": [
        "#Filling Nan of Publisher with others\n",
        "books_df.Publisher.fillna('other',inplace=True)"
      ],
      "execution_count": 48,
      "outputs": []
    },
    {
      "cell_type": "code",
      "metadata": {
        "colab": {
          "base_uri": "https://localhost:8080/",
          "height": 81
        },
        "id": "mgpSdzD_lx2T",
        "outputId": "7736a708-abd8-4913-e938-383117dfc6db"
      },
      "source": [
        "#exploring 'Book-Author' column\n",
        "books_df.loc[books_df['Book-Author'].isnull(),:]"
      ],
      "execution_count": 49,
      "outputs": [
        {
          "output_type": "execute_result",
          "data": {
            "text/html": [
              "<div>\n",
              "<style scoped>\n",
              "    .dataframe tbody tr th:only-of-type {\n",
              "        vertical-align: middle;\n",
              "    }\n",
              "\n",
              "    .dataframe tbody tr th {\n",
              "        vertical-align: top;\n",
              "    }\n",
              "\n",
              "    .dataframe thead th {\n",
              "        text-align: right;\n",
              "    }\n",
              "</style>\n",
              "<table border=\"1\" class=\"dataframe\">\n",
              "  <thead>\n",
              "    <tr style=\"text-align: right;\">\n",
              "      <th></th>\n",
              "      <th>ISBN</th>\n",
              "      <th>Book-Title</th>\n",
              "      <th>Book-Author</th>\n",
              "      <th>Year-Of-Publication</th>\n",
              "      <th>Publisher</th>\n",
              "    </tr>\n",
              "  </thead>\n",
              "  <tbody>\n",
              "    <tr>\n",
              "      <th>187689</th>\n",
              "      <td>9627982032</td>\n",
              "      <td>The Credit Suisse Guide to Managing Your Perso...</td>\n",
              "      <td>NaN</td>\n",
              "      <td>1995.0</td>\n",
              "      <td>Edinburgh Financial Publishing</td>\n",
              "    </tr>\n",
              "  </tbody>\n",
              "</table>\n",
              "</div>"
            ],
            "text/plain": [
              "              ISBN  ...                       Publisher\n",
              "187689  9627982032  ...  Edinburgh Financial Publishing\n",
              "\n",
              "[1 rows x 5 columns]"
            ]
          },
          "metadata": {},
          "execution_count": 49
        }
      ]
    },
    {
      "cell_type": "code",
      "metadata": {
        "id": "vkecS4zmlxw5"
      },
      "source": [
        "#Filling Nan of Book-Author with others\n",
        "books_df['Book-Author'].fillna('other',inplace=True)"
      ],
      "execution_count": 50,
      "outputs": []
    },
    {
      "cell_type": "code",
      "metadata": {
        "colab": {
          "base_uri": "https://localhost:8080/"
        },
        "id": "c11vvozulxtn",
        "outputId": "aff8d3be-2c32-4dcf-ed4a-27e8b2139142"
      },
      "source": [
        "#checking missing value\n",
        "books_df.isna().sum()"
      ],
      "execution_count": 51,
      "outputs": [
        {
          "output_type": "execute_result",
          "data": {
            "text/plain": [
              "ISBN                   0\n",
              "Book-Title             0\n",
              "Book-Author            0\n",
              "Year-Of-Publication    0\n",
              "Publisher              0\n",
              "dtype: int64"
            ]
          },
          "metadata": {},
          "execution_count": 51
        }
      ]
    },
    {
      "cell_type": "markdown",
      "metadata": {
        "id": "ytU_9Zf5EFVu"
      },
      "source": [
        "## **3.)Ratings_Dataset**"
      ]
    },
    {
      "cell_type": "code",
      "metadata": {
        "colab": {
          "base_uri": "https://localhost:8080/",
          "height": 206
        },
        "id": "WoMdnzySEXIn",
        "outputId": "e9ec7ed9-9324-46ef-9f55-79451806bc65"
      },
      "source": [
        "#first 5 datapoints from ratings_df dataset\n",
        "ratings_df.head()"
      ],
      "execution_count": 52,
      "outputs": [
        {
          "output_type": "execute_result",
          "data": {
            "text/html": [
              "<div>\n",
              "<style scoped>\n",
              "    .dataframe tbody tr th:only-of-type {\n",
              "        vertical-align: middle;\n",
              "    }\n",
              "\n",
              "    .dataframe tbody tr th {\n",
              "        vertical-align: top;\n",
              "    }\n",
              "\n",
              "    .dataframe thead th {\n",
              "        text-align: right;\n",
              "    }\n",
              "</style>\n",
              "<table border=\"1\" class=\"dataframe\">\n",
              "  <thead>\n",
              "    <tr style=\"text-align: right;\">\n",
              "      <th></th>\n",
              "      <th>User-ID</th>\n",
              "      <th>ISBN</th>\n",
              "      <th>Book-Rating</th>\n",
              "    </tr>\n",
              "  </thead>\n",
              "  <tbody>\n",
              "    <tr>\n",
              "      <th>0</th>\n",
              "      <td>276725</td>\n",
              "      <td>034545104X</td>\n",
              "      <td>0</td>\n",
              "    </tr>\n",
              "    <tr>\n",
              "      <th>1</th>\n",
              "      <td>276726</td>\n",
              "      <td>0155061224</td>\n",
              "      <td>5</td>\n",
              "    </tr>\n",
              "    <tr>\n",
              "      <th>2</th>\n",
              "      <td>276727</td>\n",
              "      <td>0446520802</td>\n",
              "      <td>0</td>\n",
              "    </tr>\n",
              "    <tr>\n",
              "      <th>3</th>\n",
              "      <td>276729</td>\n",
              "      <td>052165615X</td>\n",
              "      <td>3</td>\n",
              "    </tr>\n",
              "    <tr>\n",
              "      <th>4</th>\n",
              "      <td>276729</td>\n",
              "      <td>0521795028</td>\n",
              "      <td>6</td>\n",
              "    </tr>\n",
              "  </tbody>\n",
              "</table>\n",
              "</div>"
            ],
            "text/plain": [
              "   User-ID        ISBN  Book-Rating\n",
              "0   276725  034545104X            0\n",
              "1   276726  0155061224            5\n",
              "2   276727  0446520802            0\n",
              "3   276729  052165615X            3\n",
              "4   276729  0521795028            6"
            ]
          },
          "metadata": {},
          "execution_count": 52
        }
      ]
    },
    {
      "cell_type": "code",
      "metadata": {
        "colab": {
          "base_uri": "https://localhost:8080/"
        },
        "id": "pIgyC7TX-UoZ",
        "outputId": "d66746a5-1fa6-449d-dfc4-02295af39a62"
      },
      "source": [
        "#checking missing value\n",
        "ratings_df.isna().sum()"
      ],
      "execution_count": 53,
      "outputs": [
        {
          "output_type": "execute_result",
          "data": {
            "text/plain": [
              "User-ID        0\n",
              "ISBN           0\n",
              "Book-Rating    0\n",
              "dtype: int64"
            ]
          },
          "metadata": {},
          "execution_count": 53
        }
      ]
    },
    {
      "cell_type": "markdown",
      "metadata": {
        "id": "4MNNf5WDGCRg"
      },
      "source": [
        "ratings_df dataset should have books only which exist in our books_df dataset\n"
      ]
    },
    {
      "cell_type": "code",
      "metadata": {
        "colab": {
          "base_uri": "https://localhost:8080/"
        },
        "id": "zMoyBujZF2T6",
        "outputId": "ed34105f-89d8-48d7-90c3-aa778b0e4898"
      },
      "source": [
        "#how many ratings match in our books_df ISBN number\n",
        "ratings_df_new = ratings_df[ratings_df.ISBN.isin(books_df.ISBN)]\n",
        "ratings_df.shape,ratings_df_new.shape"
      ],
      "execution_count": 54,
      "outputs": [
        {
          "output_type": "execute_result",
          "data": {
            "text/plain": [
              "((1149780, 3), (1031136, 3))"
            ]
          },
          "metadata": {},
          "execution_count": 54
        }
      ]
    },
    {
      "cell_type": "markdown",
      "metadata": {
        "id": "nVTmV38zGQDI"
      },
      "source": [
        "It can be seen that many rows having book ISBN not part of our books_df dataset got dropped off"
      ]
    },
    {
      "cell_type": "markdown",
      "metadata": {
        "id": "anC0KA07GXtN"
      },
      "source": [
        "ratings_df dataset should have ratings from users which exist in users_df dataset"
      ]
    },
    {
      "cell_type": "code",
      "metadata": {
        "colab": {
          "base_uri": "https://localhost:8080/"
        },
        "id": "7EQiTZnuF2RM",
        "outputId": "6009eb94-fa84-4438-85c2-1001f38ad782"
      },
      "source": [
        "##how many users match in our users_df users\n",
        "print(\"Shape of dataset before dropping\",ratings_df_new.shape)\n",
        "ratings_df_new = ratings_df_new[ratings_df_new['User-ID'].isin(users_df['User-ID'])]\n",
        "print(\"shape of dataset after dropping\",ratings_df_new.shape)"
      ],
      "execution_count": 55,
      "outputs": [
        {
          "output_type": "stream",
          "name": "stdout",
          "text": [
            "Shape of dataset before dropping (1031136, 3)\n",
            "shape of dataset after dropping (1031136, 3)\n"
          ]
        }
      ]
    },
    {
      "cell_type": "markdown",
      "metadata": {
        "id": "94ou5dtuHcaC"
      },
      "source": [
        "It can be seen that no new user was there in ratings dataset"
      ]
    },
    {
      "cell_type": "code",
      "metadata": {
        "colab": {
          "base_uri": "https://localhost:8080/",
          "height": 298
        },
        "id": "5pWV7Qt_7NnY",
        "outputId": "33b845b3-6cc8-43c5-bf06-eb19f6be5271"
      },
      "source": [
        "#visualize Rating column\n",
        "ratings_df_new['Book-Rating'].value_counts(sort=False).plot(kind='bar')\n",
        "plt.title('Ratings Distribution')\n",
        "plt.xlabel('Ratings')\n",
        "plt.ylabel('Count')\n",
        "plt.show()"
      ],
      "execution_count": 56,
      "outputs": [
        {
          "output_type": "display_data",
          "data": {
            "image/png": "[encoded data removed]",
            "text/plain": [
              "<Figure size 432x288 with 1 Axes>"
            ]
          },
          "metadata": {
            "needs_background": "light"
          }
        }
      ]
    },
    {
      "cell_type": "markdown",
      "metadata": {
        "id": "nMnxRoieC4-P"
      },
      "source": [
        "Most of the ratings are 0"
      ]
    },
    {
      "cell_type": "markdown",
      "metadata": {
        "id": "kwiQ3ffuOsaK"
      },
      "source": [
        "The ratings are very unevenly distributed, and the vast majority of ratings are 0 .As quoted in the description of the dataset - BX-Book-Ratings contains the book rating information. Ratings are either explicit, expressed on a scale from 1-10 higher values denoting higher appreciation, or implicit, expressed by 0.Hence segragating implicit and explict ratings datasets"
      ]
    },
    {
      "cell_type": "code",
      "metadata": {
        "id": "SFmSfkTkH13T"
      },
      "source": [
        "#seprating 0 and non 0 ratings from ratings_df_new datasets\n",
        "ratings_non_zero = ratings_df_new[ratings_df_new['Book-Rating'] != 0]\n",
        "ratings_zero = ratings_df_new[ratings_df_new['Book-Rating'] == 0]"
      ],
      "execution_count": 57,
      "outputs": []
    },
    {
      "cell_type": "code",
      "metadata": {
        "colab": {
          "base_uri": "https://localhost:8080/"
        },
        "id": "8M0OmJbOIG-K",
        "outputId": "d46fdca3-2e23-43b0-b524-cd197aacdbd1"
      },
      "source": [
        "#shape of zero and non_zero ratings dataset\n",
        "print('ratings_zero dataset shape',ratings_zero.shape)\n",
        "print('ratings_non_zero dataset',ratings_non_zero.shape)"
      ],
      "execution_count": 58,
      "outputs": [
        {
          "output_type": "stream",
          "name": "stdout",
          "text": [
            "ratings_zero dataset shape (647294, 3)\n",
            "ratings_non_zero dataset (383842, 3)\n"
          ]
        }
      ]
    },
    {
      "cell_type": "code",
      "metadata": {
        "colab": {
          "base_uri": "https://localhost:8080/",
          "height": 388
        },
        "id": "JxKBrL2IIB4Z",
        "outputId": "b13f332b-7a68-4cb9-aa2b-6a8ef40cae9d"
      },
      "source": [
        "#visualize non_zero ratings\n",
        "plt.figure(figsize=(12, 6))\n",
        "sns.countplot(data=ratings_non_zero , x='Book-Rating')\n",
        "plt.show()"
      ],
      "execution_count": 59,
      "outputs": [
        {
          "output_type": "display_data",
          "data": {
            "image/png": "[encoded data removed]",
            "text/plain": [
              "<Figure size 864x432 with 1 Axes>"
            ]
          },
          "metadata": {
            "needs_background": "light"
          }
        }
      ]
    },
    {
      "cell_type": "markdown",
      "metadata": {
        "id": "tcKm9lx9EqB3"
      },
      "source": [
        "8 is the highest frequncy of ratings"
      ]
    },
    {
      "cell_type": "markdown",
      "metadata": {
        "id": "kD-F8ZwkQ7Ep"
      },
      "source": [
        "<font color= 'blue'>Let's find the top 5 books which are rated by most number of users."
      ]
    },
    {
      "cell_type": "code",
      "metadata": {
        "colab": {
          "base_uri": "https://localhost:8080/",
          "height": 394
        },
        "id": "iZqU0NbxP0VS",
        "outputId": "54f36b7d-7b99-4d30-c279-fdb61f2c9810"
      },
      "source": [
        "#top 10 books which are rated by more numbers of users\n",
        "rating_count = pd.DataFrame(ratings_non_zero.groupby('ISBN')['Book-Rating'].count())\n",
        "rating_count.sort_values('Book-Rating', ascending=False).head(10)"
      ],
      "execution_count": 60,
      "outputs": [
        {
          "output_type": "execute_result",
          "data": {
            "text/html": [
              "<div>\n",
              "<style scoped>\n",
              "    .dataframe tbody tr th:only-of-type {\n",
              "        vertical-align: middle;\n",
              "    }\n",
              "\n",
              "    .dataframe tbody tr th {\n",
              "        vertical-align: top;\n",
              "    }\n",
              "\n",
              "    .dataframe thead th {\n",
              "        text-align: right;\n",
              "    }\n",
              "</style>\n",
              "<table border=\"1\" class=\"dataframe\">\n",
              "  <thead>\n",
              "    <tr style=\"text-align: right;\">\n",
              "      <th></th>\n",
              "      <th>Book-Rating</th>\n",
              "    </tr>\n",
              "    <tr>\n",
              "      <th>ISBN</th>\n",
              "      <th></th>\n",
              "    </tr>\n",
              "  </thead>\n",
              "  <tbody>\n",
              "    <tr>\n",
              "      <th>0316666343</th>\n",
              "      <td>707</td>\n",
              "    </tr>\n",
              "    <tr>\n",
              "      <th>0971880107</th>\n",
              "      <td>581</td>\n",
              "    </tr>\n",
              "    <tr>\n",
              "      <th>0385504209</th>\n",
              "      <td>487</td>\n",
              "    </tr>\n",
              "    <tr>\n",
              "      <th>0312195516</th>\n",
              "      <td>383</td>\n",
              "    </tr>\n",
              "    <tr>\n",
              "      <th>0060928336</th>\n",
              "      <td>320</td>\n",
              "    </tr>\n",
              "    <tr>\n",
              "      <th>059035342X</th>\n",
              "      <td>313</td>\n",
              "    </tr>\n",
              "    <tr>\n",
              "      <th>0142001740</th>\n",
              "      <td>307</td>\n",
              "    </tr>\n",
              "    <tr>\n",
              "      <th>0446672211</th>\n",
              "      <td>295</td>\n",
              "    </tr>\n",
              "    <tr>\n",
              "      <th>044023722X</th>\n",
              "      <td>281</td>\n",
              "    </tr>\n",
              "    <tr>\n",
              "      <th>0452282152</th>\n",
              "      <td>278</td>\n",
              "    </tr>\n",
              "  </tbody>\n",
              "</table>\n",
              "</div>"
            ],
            "text/plain": [
              "            Book-Rating\n",
              "ISBN                   \n",
              "0316666343          707\n",
              "0971880107          581\n",
              "0385504209          487\n",
              "0312195516          383\n",
              "0060928336          320\n",
              "059035342X          313\n",
              "0142001740          307\n",
              "0446672211          295\n",
              "044023722X          281\n",
              "0452282152          278"
            ]
          },
          "metadata": {},
          "execution_count": 60
        }
      ]
    },
    {
      "cell_type": "markdown",
      "metadata": {
        "id": "wbV4o2fpRoc-"
      },
      "source": [
        "The book with ISBN '0316666343' received the most rating counts. Let’s find out what book it is, and what books are in the top 10"
      ]
    },
    {
      "cell_type": "code",
      "metadata": {
        "colab": {
          "base_uri": "https://localhost:8080/",
          "height": 331
        },
        "id": "PrkG35vhRa6A",
        "outputId": "a9439504-23f3-4ffa-9959-8e7b87ae6a53"
      },
      "source": [
        "most_rated_books = pd.DataFrame(['0316666343', '0971880107', '0385504209', '0312195516', '0060928336','059035342X ','0142001740','0446672211','044023722X','0452282152'],\n",
        "                                index=np.arange(10), columns = ['ISBN'])\n",
        "most_rated_books_summary = pd.merge(most_rated_books, books_df, on='ISBN')\n",
        "most_rated_books_summary"
      ],
      "execution_count": 61,
      "outputs": [
        {
          "output_type": "execute_result",
          "data": {
            "text/html": [
              "<div>\n",
              "<style scoped>\n",
              "    .dataframe tbody tr th:only-of-type {\n",
              "        vertical-align: middle;\n",
              "    }\n",
              "\n",
              "    .dataframe tbody tr th {\n",
              "        vertical-align: top;\n",
              "    }\n",
              "\n",
              "    .dataframe thead th {\n",
              "        text-align: right;\n",
              "    }\n",
              "</style>\n",
              "<table border=\"1\" class=\"dataframe\">\n",
              "  <thead>\n",
              "    <tr style=\"text-align: right;\">\n",
              "      <th></th>\n",
              "      <th>ISBN</th>\n",
              "      <th>Book-Title</th>\n",
              "      <th>Book-Author</th>\n",
              "      <th>Year-Of-Publication</th>\n",
              "      <th>Publisher</th>\n",
              "    </tr>\n",
              "  </thead>\n",
              "  <tbody>\n",
              "    <tr>\n",
              "      <th>0</th>\n",
              "      <td>0316666343</td>\n",
              "      <td>The Lovely Bones: A Novel</td>\n",
              "      <td>Alice Sebold</td>\n",
              "      <td>2002.0</td>\n",
              "      <td>Little, Brown</td>\n",
              "    </tr>\n",
              "    <tr>\n",
              "      <th>1</th>\n",
              "      <td>0971880107</td>\n",
              "      <td>Wild Animus</td>\n",
              "      <td>Rich Shapero</td>\n",
              "      <td>2004.0</td>\n",
              "      <td>Too Far</td>\n",
              "    </tr>\n",
              "    <tr>\n",
              "      <th>2</th>\n",
              "      <td>0385504209</td>\n",
              "      <td>The Da Vinci Code</td>\n",
              "      <td>Dan Brown</td>\n",
              "      <td>2003.0</td>\n",
              "      <td>Doubleday</td>\n",
              "    </tr>\n",
              "    <tr>\n",
              "      <th>3</th>\n",
              "      <td>0312195516</td>\n",
              "      <td>The Red Tent (Bestselling Backlist)</td>\n",
              "      <td>Anita Diamant</td>\n",
              "      <td>1998.0</td>\n",
              "      <td>Picador USA</td>\n",
              "    </tr>\n",
              "    <tr>\n",
              "      <th>4</th>\n",
              "      <td>0060928336</td>\n",
              "      <td>Divine Secrets of the Ya-Ya Sisterhood: A Novel</td>\n",
              "      <td>Rebecca Wells</td>\n",
              "      <td>1997.0</td>\n",
              "      <td>Perennial</td>\n",
              "    </tr>\n",
              "    <tr>\n",
              "      <th>5</th>\n",
              "      <td>0142001740</td>\n",
              "      <td>The Secret Life of Bees</td>\n",
              "      <td>Sue Monk Kidd</td>\n",
              "      <td>2003.0</td>\n",
              "      <td>Penguin Books</td>\n",
              "    </tr>\n",
              "    <tr>\n",
              "      <th>6</th>\n",
              "      <td>0446672211</td>\n",
              "      <td>Where the Heart Is (Oprah's Book Club (Paperba...</td>\n",
              "      <td>Billie Letts</td>\n",
              "      <td>1998.0</td>\n",
              "      <td>Warner Books</td>\n",
              "    </tr>\n",
              "    <tr>\n",
              "      <th>7</th>\n",
              "      <td>044023722X</td>\n",
              "      <td>A Painted House</td>\n",
              "      <td>John Grisham</td>\n",
              "      <td>2001.0</td>\n",
              "      <td>Dell Publishing Company</td>\n",
              "    </tr>\n",
              "    <tr>\n",
              "      <th>8</th>\n",
              "      <td>0452282152</td>\n",
              "      <td>Girl with a Pearl Earring</td>\n",
              "      <td>Tracy Chevalier</td>\n",
              "      <td>2001.0</td>\n",
              "      <td>Plume Books</td>\n",
              "    </tr>\n",
              "  </tbody>\n",
              "</table>\n",
              "</div>"
            ],
            "text/plain": [
              "         ISBN  ...                Publisher\n",
              "0  0316666343  ...            Little, Brown\n",
              "1  0971880107  ...                  Too Far\n",
              "2  0385504209  ...                Doubleday\n",
              "3  0312195516  ...              Picador USA\n",
              "4  0060928336  ...                Perennial\n",
              "5  0142001740  ...            Penguin Books\n",
              "6  0446672211  ...             Warner Books\n",
              "7  044023722X  ...  Dell Publishing Company\n",
              "8  0452282152  ...              Plume Books\n",
              "\n",
              "[9 rows x 5 columns]"
            ]
          },
          "metadata": {},
          "execution_count": 61
        }
      ]
    },
    {
      "cell_type": "markdown",
      "metadata": {
        "id": "_SyV9GwRH_De"
      },
      "source": [
        "The book that received the most rating counts in this data set is Alice Sebold’s “The Lovely Bones: A Novel”. "
      ]
    },
    {
      "cell_type": "code",
      "metadata": {
        "id": "Wydji068bCMd"
      },
      "source": [
        "#Create new column Avg_Rating \n",
        "ratings_non_zero['Avg_Rating']=ratings_non_zero.groupby('ISBN')['Book-Rating'].transform('mean')\n",
        "#Create new column Total_No_Of_Users_Rated \n",
        "ratings_non_zero['Total_No_Of_Users_Rated']=ratings_non_zero.groupby('ISBN')['Book-Rating'].transform('count')"
      ],
      "execution_count": 62,
      "outputs": []
    },
    {
      "cell_type": "code",
      "metadata": {
        "colab": {
          "base_uri": "https://localhost:8080/",
          "height": 206
        },
        "id": "7eszz11Pbtn7",
        "outputId": "f0294dec-0a2b-45dd-f74c-bf9be7c76bf0"
      },
      "source": [
        "#data sample after created two column\n",
        "ratings_non_zero.head()"
      ],
      "execution_count": 63,
      "outputs": [
        {
          "output_type": "execute_result",
          "data": {
            "text/html": [
              "<div>\n",
              "<style scoped>\n",
              "    .dataframe tbody tr th:only-of-type {\n",
              "        vertical-align: middle;\n",
              "    }\n",
              "\n",
              "    .dataframe tbody tr th {\n",
              "        vertical-align: top;\n",
              "    }\n",
              "\n",
              "    .dataframe thead th {\n",
              "        text-align: right;\n",
              "    }\n",
              "</style>\n",
              "<table border=\"1\" class=\"dataframe\">\n",
              "  <thead>\n",
              "    <tr style=\"text-align: right;\">\n",
              "      <th></th>\n",
              "      <th>User-ID</th>\n",
              "      <th>ISBN</th>\n",
              "      <th>Book-Rating</th>\n",
              "      <th>Avg_Rating</th>\n",
              "      <th>Total_No_Of_Users_Rated</th>\n",
              "    </tr>\n",
              "  </thead>\n",
              "  <tbody>\n",
              "    <tr>\n",
              "      <th>1</th>\n",
              "      <td>276726</td>\n",
              "      <td>0155061224</td>\n",
              "      <td>5</td>\n",
              "      <td>5.000000</td>\n",
              "      <td>1</td>\n",
              "    </tr>\n",
              "    <tr>\n",
              "      <th>3</th>\n",
              "      <td>276729</td>\n",
              "      <td>052165615X</td>\n",
              "      <td>3</td>\n",
              "      <td>3.000000</td>\n",
              "      <td>1</td>\n",
              "    </tr>\n",
              "    <tr>\n",
              "      <th>4</th>\n",
              "      <td>276729</td>\n",
              "      <td>0521795028</td>\n",
              "      <td>6</td>\n",
              "      <td>6.000000</td>\n",
              "      <td>1</td>\n",
              "    </tr>\n",
              "    <tr>\n",
              "      <th>8</th>\n",
              "      <td>276744</td>\n",
              "      <td>038550120X</td>\n",
              "      <td>7</td>\n",
              "      <td>7.580247</td>\n",
              "      <td>81</td>\n",
              "    </tr>\n",
              "    <tr>\n",
              "      <th>16</th>\n",
              "      <td>276747</td>\n",
              "      <td>0060517794</td>\n",
              "      <td>9</td>\n",
              "      <td>8.000000</td>\n",
              "      <td>30</td>\n",
              "    </tr>\n",
              "  </tbody>\n",
              "</table>\n",
              "</div>"
            ],
            "text/plain": [
              "    User-ID        ISBN  Book-Rating  Avg_Rating  Total_No_Of_Users_Rated\n",
              "1    276726  0155061224            5    5.000000                        1\n",
              "3    276729  052165615X            3    3.000000                        1\n",
              "4    276729  0521795028            6    6.000000                        1\n",
              "8    276744  038550120X            7    7.580247                       81\n",
              "16   276747  0060517794            9    8.000000                       30"
            ]
          },
          "metadata": {},
          "execution_count": 63
        }
      ]
    },
    {
      "cell_type": "markdown",
      "metadata": {
        "id": "CUiTUHu02X92"
      },
      "source": [
        "#**Merging All Dataset**"
      ]
    },
    {
      "cell_type": "code",
      "metadata": {
        "id": "H2M_3V7aVKKP"
      },
      "source": [
        "#merging users_df,ratings_non_zero and books_df\n",
        "books_dataset = users_df.copy()\n",
        "books_dataset = pd.merge(books_dataset, ratings_non_zero, on='User-ID')\n",
        "books_dataset = pd.merge(books_dataset, books_df, on='ISBN')"
      ],
      "execution_count": 64,
      "outputs": []
    },
    {
      "cell_type": "code",
      "metadata": {
        "colab": {
          "base_uri": "https://localhost:8080/"
        },
        "id": "vpbRNyqvKpLN",
        "outputId": "f8a14c3f-0b69-4438-9653-31fac24dd8be"
      },
      "source": [
        "#shape of dataset\n",
        "books_dataset.shape"
      ],
      "execution_count": 65,
      "outputs": [
        {
          "output_type": "execute_result",
          "data": {
            "text/plain": [
              "(383842, 11)"
            ]
          },
          "metadata": {},
          "execution_count": 65
        }
      ]
    },
    {
      "cell_type": "code",
      "metadata": {
        "colab": {
          "base_uri": "https://localhost:8080/",
          "height": 310
        },
        "id": "PR32GncBV6Jx",
        "outputId": "2efd3ca2-5189-4b9a-c86f-11d6011d2470"
      },
      "source": [
        "#first 5 datapoints of merged dataset\n",
        "books_dataset.head()"
      ],
      "execution_count": 66,
      "outputs": [
        {
          "output_type": "execute_result",
          "data": {
            "text/html": [
              "<div>\n",
              "<style scoped>\n",
              "    .dataframe tbody tr th:only-of-type {\n",
              "        vertical-align: middle;\n",
              "    }\n",
              "\n",
              "    .dataframe tbody tr th {\n",
              "        vertical-align: top;\n",
              "    }\n",
              "\n",
              "    .dataframe thead th {\n",
              "        text-align: right;\n",
              "    }\n",
              "</style>\n",
              "<table border=\"1\" class=\"dataframe\">\n",
              "  <thead>\n",
              "    <tr style=\"text-align: right;\">\n",
              "      <th></th>\n",
              "      <th>User-ID</th>\n",
              "      <th>Age</th>\n",
              "      <th>Country</th>\n",
              "      <th>ISBN</th>\n",
              "      <th>Book-Rating</th>\n",
              "      <th>Avg_Rating</th>\n",
              "      <th>Total_No_Of_Users_Rated</th>\n",
              "      <th>Book-Title</th>\n",
              "      <th>Book-Author</th>\n",
              "      <th>Year-Of-Publication</th>\n",
              "      <th>Publisher</th>\n",
              "    </tr>\n",
              "  </thead>\n",
              "  <tbody>\n",
              "    <tr>\n",
              "      <th>0</th>\n",
              "      <td>8</td>\n",
              "      <td>33.0</td>\n",
              "      <td>canada</td>\n",
              "      <td>0002005018</td>\n",
              "      <td>5</td>\n",
              "      <td>7.666667</td>\n",
              "      <td>9</td>\n",
              "      <td>Clara Callan</td>\n",
              "      <td>Richard Bruce Wright</td>\n",
              "      <td>2001.0</td>\n",
              "      <td>HarperFlamingo Canada</td>\n",
              "    </tr>\n",
              "    <tr>\n",
              "      <th>1</th>\n",
              "      <td>11676</td>\n",
              "      <td>28.0</td>\n",
              "      <td>nan</td>\n",
              "      <td>0002005018</td>\n",
              "      <td>8</td>\n",
              "      <td>7.666667</td>\n",
              "      <td>9</td>\n",
              "      <td>Clara Callan</td>\n",
              "      <td>Richard Bruce Wright</td>\n",
              "      <td>2001.0</td>\n",
              "      <td>HarperFlamingo Canada</td>\n",
              "    </tr>\n",
              "    <tr>\n",
              "      <th>2</th>\n",
              "      <td>67544</td>\n",
              "      <td>30.0</td>\n",
              "      <td>canada</td>\n",
              "      <td>0002005018</td>\n",
              "      <td>8</td>\n",
              "      <td>7.666667</td>\n",
              "      <td>9</td>\n",
              "      <td>Clara Callan</td>\n",
              "      <td>Richard Bruce Wright</td>\n",
              "      <td>2001.0</td>\n",
              "      <td>HarperFlamingo Canada</td>\n",
              "    </tr>\n",
              "    <tr>\n",
              "      <th>3</th>\n",
              "      <td>116866</td>\n",
              "      <td>32.0</td>\n",
              "      <td>other</td>\n",
              "      <td>0002005018</td>\n",
              "      <td>9</td>\n",
              "      <td>7.666667</td>\n",
              "      <td>9</td>\n",
              "      <td>Clara Callan</td>\n",
              "      <td>Richard Bruce Wright</td>\n",
              "      <td>2001.0</td>\n",
              "      <td>HarperFlamingo Canada</td>\n",
              "    </tr>\n",
              "    <tr>\n",
              "      <th>4</th>\n",
              "      <td>123629</td>\n",
              "      <td>33.0</td>\n",
              "      <td>canada</td>\n",
              "      <td>0002005018</td>\n",
              "      <td>9</td>\n",
              "      <td>7.666667</td>\n",
              "      <td>9</td>\n",
              "      <td>Clara Callan</td>\n",
              "      <td>Richard Bruce Wright</td>\n",
              "      <td>2001.0</td>\n",
              "      <td>HarperFlamingo Canada</td>\n",
              "    </tr>\n",
              "  </tbody>\n",
              "</table>\n",
              "</div>"
            ],
            "text/plain": [
              "   User-ID   Age  ... Year-Of-Publication              Publisher\n",
              "0        8  33.0  ...              2001.0  HarperFlamingo Canada\n",
              "1    11676  28.0  ...              2001.0  HarperFlamingo Canada\n",
              "2    67544  30.0  ...              2001.0  HarperFlamingo Canada\n",
              "3   116866  32.0  ...              2001.0  HarperFlamingo Canada\n",
              "4   123629  33.0  ...              2001.0  HarperFlamingo Canada\n",
              "\n",
              "[5 rows x 11 columns]"
            ]
          },
          "metadata": {},
          "execution_count": 66
        }
      ]
    },
    {
      "cell_type": "code",
      "metadata": {
        "colab": {
          "base_uri": "https://localhost:8080/",
          "height": 394
        },
        "id": "lfLh3JerKNft",
        "outputId": "7d66edf7-7d5c-41c1-8d35-05b973c51f2e"
      },
      "source": [
        "#checking missing value\n",
        "check_missing_values(books_dataset)"
      ],
      "execution_count": 67,
      "outputs": [
        {
          "output_type": "execute_result",
          "data": {
            "text/html": [
              "<div>\n",
              "<style scoped>\n",
              "    .dataframe tbody tr th:only-of-type {\n",
              "        vertical-align: middle;\n",
              "    }\n",
              "\n",
              "    .dataframe tbody tr th {\n",
              "        vertical-align: top;\n",
              "    }\n",
              "\n",
              "    .dataframe thead th {\n",
              "        text-align: right;\n",
              "    }\n",
              "</style>\n",
              "<table border=\"1\" class=\"dataframe\">\n",
              "  <thead>\n",
              "    <tr style=\"text-align: right;\">\n",
              "      <th></th>\n",
              "      <th>index</th>\n",
              "      <th>Missing Values</th>\n",
              "      <th>Missing Values %</th>\n",
              "      <th>Data_type</th>\n",
              "    </tr>\n",
              "  </thead>\n",
              "  <tbody>\n",
              "    <tr>\n",
              "      <th>0</th>\n",
              "      <td>User-ID</td>\n",
              "      <td>0</td>\n",
              "      <td>0.0</td>\n",
              "      <td>int64</td>\n",
              "    </tr>\n",
              "    <tr>\n",
              "      <th>1</th>\n",
              "      <td>Age</td>\n",
              "      <td>0</td>\n",
              "      <td>0.0</td>\n",
              "      <td>float64</td>\n",
              "    </tr>\n",
              "    <tr>\n",
              "      <th>2</th>\n",
              "      <td>Country</td>\n",
              "      <td>0</td>\n",
              "      <td>0.0</td>\n",
              "      <td>object</td>\n",
              "    </tr>\n",
              "    <tr>\n",
              "      <th>3</th>\n",
              "      <td>ISBN</td>\n",
              "      <td>0</td>\n",
              "      <td>0.0</td>\n",
              "      <td>object</td>\n",
              "    </tr>\n",
              "    <tr>\n",
              "      <th>4</th>\n",
              "      <td>Book-Rating</td>\n",
              "      <td>0</td>\n",
              "      <td>0.0</td>\n",
              "      <td>int64</td>\n",
              "    </tr>\n",
              "    <tr>\n",
              "      <th>5</th>\n",
              "      <td>Avg_Rating</td>\n",
              "      <td>0</td>\n",
              "      <td>0.0</td>\n",
              "      <td>float64</td>\n",
              "    </tr>\n",
              "    <tr>\n",
              "      <th>6</th>\n",
              "      <td>Total_No_Of_Users_Rated</td>\n",
              "      <td>0</td>\n",
              "      <td>0.0</td>\n",
              "      <td>int64</td>\n",
              "    </tr>\n",
              "    <tr>\n",
              "      <th>7</th>\n",
              "      <td>Book-Title</td>\n",
              "      <td>0</td>\n",
              "      <td>0.0</td>\n",
              "      <td>object</td>\n",
              "    </tr>\n",
              "    <tr>\n",
              "      <th>8</th>\n",
              "      <td>Book-Author</td>\n",
              "      <td>0</td>\n",
              "      <td>0.0</td>\n",
              "      <td>object</td>\n",
              "    </tr>\n",
              "    <tr>\n",
              "      <th>9</th>\n",
              "      <td>Year-Of-Publication</td>\n",
              "      <td>0</td>\n",
              "      <td>0.0</td>\n",
              "      <td>float64</td>\n",
              "    </tr>\n",
              "    <tr>\n",
              "      <th>10</th>\n",
              "      <td>Publisher</td>\n",
              "      <td>0</td>\n",
              "      <td>0.0</td>\n",
              "      <td>object</td>\n",
              "    </tr>\n",
              "  </tbody>\n",
              "</table>\n",
              "</div>"
            ],
            "text/plain": [
              "                      index  Missing Values  Missing Values % Data_type\n",
              "0                   User-ID               0               0.0     int64\n",
              "1                       Age               0               0.0   float64\n",
              "2                   Country               0               0.0    object\n",
              "3                      ISBN               0               0.0    object\n",
              "4               Book-Rating               0               0.0     int64\n",
              "5                Avg_Rating               0               0.0   float64\n",
              "6   Total_No_Of_Users_Rated               0               0.0     int64\n",
              "7                Book-Title               0               0.0    object\n",
              "8               Book-Author               0               0.0    object\n",
              "9       Year-Of-Publication               0               0.0   float64\n",
              "10                Publisher               0               0.0    object"
            ]
          },
          "metadata": {},
          "execution_count": 67
        }
      ]
    },
    {
      "cell_type": "markdown",
      "metadata": {
        "id": "VXKK2itHkowC"
      },
      "source": [
        "### **Correlation Matrix**"
      ]
    },
    {
      "cell_type": "code",
      "metadata": {
        "colab": {
          "base_uri": "https://localhost:8080/",
          "height": 602
        },
        "id": "BGkgfF5HkvIp",
        "outputId": "d6f13af0-61b6-4226-fabb-71c2928ebd81"
      },
      "source": [
        "#correlation matrix of selected features.\n",
        "plt.figure(figsize=(12,8))\n",
        "sns.heatmap(books_dataset.corr(),annot=True, cmap='coolwarm')\n",
        "plt.show()"
      ],
      "execution_count": 68,
      "outputs": [
        {
          "output_type": "display_data",
          "data": {
            "image/png": "[encoded data removed]",
            "text/plain": [
              "<Figure size 864x576 with 2 Axes>"
            ]
          },
          "metadata": {
            "needs_background": "light"
          }
        }
      ]
    },
    {
      "cell_type": "markdown",
      "metadata": {
        "id": "r9C6zEO6aluu"
      },
      "source": [
        "#**Popularity Based Filtering**"
      ]
    },
    {
      "cell_type": "markdown",
      "metadata": {
        "id": "PG4DPgGxao3w"
      },
      "source": [
        "As the name suggests Popularity based recommendation system works with the trend. It basically uses the items which are in trend right now. For example, if any book which is usually bought by every new user then there are chances that it may suggest that book to the user who just signed up.<br>\n",
        "Book weighted avg formula:<br>\n",
        "Weighted Rating(WR)=[vR/(v+m)]+[mC/(v+m)]<br>\n",
        "where,<br>\n",
        "v is the number of rating for the books;<br>\n",
        "m is the minimum rating required to be listed in the chart;<br>\n",
        "R is the average rating of the book; and<br>\n",
        "C is the mean rating across the whole ratings.<br>"
      ]
    },
    {
      "cell_type": "code",
      "metadata": {
        "colab": {
          "base_uri": "https://localhost:8080/"
        },
        "id": "oyz-uPOyaPv6",
        "outputId": "bfcd86ba-93ac-4994-810e-2347a0d02aef"
      },
      "source": [
        "#finding the values of v,m,R,C\n",
        "C= books_dataset['Avg_Rating'].mean()\n",
        "m= books_dataset['Total_No_Of_Users_Rated'].quantile(0.90)\n",
        "Top_Books = books_dataset.loc[books_dataset['Total_No_Of_Users_Rated'] >= m]\n",
        "print(f'C={C} , m={m}')\n",
        "Top_Books.shape"
      ],
      "execution_count": 69,
      "outputs": [
        {
          "output_type": "stream",
          "name": "stdout",
          "text": [
            "C=7.626700569504765 , m=64.0\n"
          ]
        },
        {
          "output_type": "execute_result",
          "data": {
            "text/plain": [
              "(38570, 11)"
            ]
          },
          "metadata": {},
          "execution_count": 69
        }
      ]
    },
    {
      "cell_type": "markdown",
      "metadata": {
        "id": "B0EZx3plbeWe"
      },
      "source": [
        "Here we used 90th percentile as our cutoff. In other words, for a book to feature in the charts, it must have more rating than at least 90% of the books in the list.<br>\n",
        "We see that there are 38570 books which qualify to be in this list. Now, we need to calculate our metric for each qualified book. To do this, we will define a function, weighted_rating() and define a new feature score, of which we’ll calculate the value by applying this function to our DataFrame of qualified books:\n"
      ]
    },
    {
      "cell_type": "code",
      "metadata": {
        "id": "2dswN92ROrB4"
      },
      "source": [
        "#function of calculating weighted_rating\n",
        "def weighted_rating(x, m=m, C=C):\n",
        "    v = x['Total_No_Of_Users_Rated']\n",
        "    R = x['Avg_Rating']\n",
        "    return (v/(v+m) * R) + (m/(m+v) * C)\n",
        "    \n",
        " \n",
        "Top_Books['Score'] = Top_Books.apply(weighted_rating,axis=1)\n",
        " \n",
        " \n",
        "#Sorting books based on score calculated above\n",
        "Top_Books = Top_Books.sort_values('Score', ascending=False)"
      ],
      "execution_count": 70,
      "outputs": []
    },
    {
      "cell_type": "code",
      "metadata": {
        "colab": {
          "base_uri": "https://localhost:8080/",
          "height": 676
        },
        "id": "ND1JhMTsSXGj",
        "outputId": "d23b17e9-82f5-406a-af95-4ba14c2e1fdf"
      },
      "source": [
        "#Keeping only one entry of each book\n",
        "Top_Books=Top_Books.sort_values('Score', ascending=False).drop_duplicates('ISBN').sort_index()\n",
        "cm=sns.light_palette('yellow',as_cmap=True)\n",
        "#Sorting books based on score calculated above\n",
        "Top_Books = Top_Books.sort_values('Score', ascending=False)\n",
        "\n",
        "#Printing the top 20 books\n",
        "Top_Books[['Book-Title', 'Total_No_Of_Users_Rated', 'Avg_Rating', 'Score']].reset_index(drop=True).head(20).style.background_gradient(cmap=cm)"
      ],
      "execution_count": 71,
      "outputs": [
        {
          "output_type": "execute_result",
          "data": {
            "text/html": [
              "<style  type=\"text/css\" >\n",
              "#T_5061547e_5439_11ec_991d_0242ac1c0002row0_col1{\n",
              "            background-color:  #f6f69f;\n",
              "            color:  #000000;\n",
              "        }#T_5061547e_5439_11ec_991d_0242ac1c0002row0_col2{\n",
              "            background-color:  #fdfd27;\n",
              "            color:  #000000;\n",
              "        }#T_5061547e_5439_11ec_991d_0242ac1c0002row0_col3,#T_5061547e_5439_11ec_991d_0242ac1c0002row1_col1,#T_5061547e_5439_11ec_991d_0242ac1c0002row5_col2{\n",
              "            background-color:  #ffff00;\n",
              "            color:  #000000;\n",
              "        }#T_5061547e_5439_11ec_991d_0242ac1c0002row1_col2{\n",
              "            background-color:  #f7f781;\n",
              "            color:  #000000;\n",
              "        }#T_5061547e_5439_11ec_991d_0242ac1c0002row1_col3{\n",
              "            background-color:  #fefe0e;\n",
              "            color:  #000000;\n",
              "        }#T_5061547e_5439_11ec_991d_0242ac1c0002row2_col1{\n",
              "            background-color:  #f9f960;\n",
              "            color:  #000000;\n",
              "        }#T_5061547e_5439_11ec_991d_0242ac1c0002row2_col2,#T_5061547e_5439_11ec_991d_0242ac1c0002row6_col2,#T_5061547e_5439_11ec_991d_0242ac1c0002row15_col1{\n",
              "            background-color:  #f9f966;\n",
              "            color:  #000000;\n",
              "        }#T_5061547e_5439_11ec_991d_0242ac1c0002row2_col3{\n",
              "            background-color:  #fefe17;\n",
              "            color:  #000000;\n",
              "        }#T_5061547e_5439_11ec_991d_0242ac1c0002row3_col1,#T_5061547e_5439_11ec_991d_0242ac1c0002row4_col2{\n",
              "            background-color:  #fafa59;\n",
              "            color:  #000000;\n",
              "        }#T_5061547e_5439_11ec_991d_0242ac1c0002row3_col2{\n",
              "            background-color:  #f8f880;\n",
              "            color:  #000000;\n",
              "        }#T_5061547e_5439_11ec_991d_0242ac1c0002row3_col3{\n",
              "            background-color:  #fcfc38;\n",
              "            color:  #000000;\n",
              "        }#T_5061547e_5439_11ec_991d_0242ac1c0002row4_col1{\n",
              "            background-color:  #f5f5a3;\n",
              "            color:  #000000;\n",
              "        }#T_5061547e_5439_11ec_991d_0242ac1c0002row4_col3{\n",
              "            background-color:  #fbfb4a;\n",
              "            color:  #000000;\n",
              "        }#T_5061547e_5439_11ec_991d_0242ac1c0002row5_col1{\n",
              "            background-color:  #f2f2d5;\n",
              "            color:  #000000;\n",
              "        }#T_5061547e_5439_11ec_991d_0242ac1c0002row5_col3,#T_5061547e_5439_11ec_991d_0242ac1c0002row6_col3{\n",
              "            background-color:  #fafa52;\n",
              "            color:  #000000;\n",
              "        }#T_5061547e_5439_11ec_991d_0242ac1c0002row6_col1{\n",
              "            background-color:  #f6f69b;\n",
              "            color:  #000000;\n",
              "        }#T_5061547e_5439_11ec_991d_0242ac1c0002row7_col1{\n",
              "            background-color:  #f5f5af;\n",
              "            color:  #000000;\n",
              "        }#T_5061547e_5439_11ec_991d_0242ac1c0002row7_col2{\n",
              "            background-color:  #f8f875;\n",
              "            color:  #000000;\n",
              "        }#T_5061547e_5439_11ec_991d_0242ac1c0002row7_col3{\n",
              "            background-color:  #f7f783;\n",
              "            color:  #000000;\n",
              "        }#T_5061547e_5439_11ec_991d_0242ac1c0002row8_col1{\n",
              "            background-color:  #f8f870;\n",
              "            color:  #000000;\n",
              "        }#T_5061547e_5439_11ec_991d_0242ac1c0002row8_col2{\n",
              "            background-color:  #f5f5ad;\n",
              "            color:  #000000;\n",
              "        }#T_5061547e_5439_11ec_991d_0242ac1c0002row8_col3{\n",
              "            background-color:  #f7f78d;\n",
              "            color:  #000000;\n",
              "        }#T_5061547e_5439_11ec_991d_0242ac1c0002row9_col1{\n",
              "            background-color:  #f5f5a9;\n",
              "            color:  #000000;\n",
              "        }#T_5061547e_5439_11ec_991d_0242ac1c0002row9_col2,#T_5061547e_5439_11ec_991d_0242ac1c0002row19_col1{\n",
              "            background-color:  #f7f786;\n",
              "            color:  #000000;\n",
              "        }#T_5061547e_5439_11ec_991d_0242ac1c0002row9_col3{\n",
              "            background-color:  #f7f790;\n",
              "            color:  #000000;\n",
              "        }#T_5061547e_5439_11ec_991d_0242ac1c0002row10_col1{\n",
              "            background-color:  #f3f3d0;\n",
              "            color:  #000000;\n",
              "        }#T_5061547e_5439_11ec_991d_0242ac1c0002row10_col2{\n",
              "            background-color:  #fafa4e;\n",
              "            color:  #000000;\n",
              "        }#T_5061547e_5439_11ec_991d_0242ac1c0002row10_col3{\n",
              "            background-color:  #f6f699;\n",
              "            color:  #000000;\n",
              "        }#T_5061547e_5439_11ec_991d_0242ac1c0002row11_col1{\n",
              "            background-color:  #f4f4b8;\n",
              "            color:  #000000;\n",
              "        }#T_5061547e_5439_11ec_991d_0242ac1c0002row11_col2{\n",
              "            background-color:  #f8f87d;\n",
              "            color:  #000000;\n",
              "        }#T_5061547e_5439_11ec_991d_0242ac1c0002row11_col3{\n",
              "            background-color:  #f6f69a;\n",
              "            color:  #000000;\n",
              "        }#T_5061547e_5439_11ec_991d_0242ac1c0002row12_col1{\n",
              "            background-color:  #f5f5a5;\n",
              "            color:  #000000;\n",
              "        }#T_5061547e_5439_11ec_991d_0242ac1c0002row12_col2,#T_5061547e_5439_11ec_991d_0242ac1c0002row14_col2{\n",
              "            background-color:  #f6f69d;\n",
              "            color:  #000000;\n",
              "        }#T_5061547e_5439_11ec_991d_0242ac1c0002row12_col3{\n",
              "            background-color:  #f5f5a8;\n",
              "            color:  #000000;\n",
              "        }#T_5061547e_5439_11ec_991d_0242ac1c0002row13_col1{\n",
              "            background-color:  #f7f789;\n",
              "            color:  #000000;\n",
              "        }#T_5061547e_5439_11ec_991d_0242ac1c0002row13_col2{\n",
              "            background-color:  #f4f4b9;\n",
              "            color:  #000000;\n",
              "        }#T_5061547e_5439_11ec_991d_0242ac1c0002row13_col3{\n",
              "            background-color:  #f5f5b3;\n",
              "            color:  #000000;\n",
              "        }#T_5061547e_5439_11ec_991d_0242ac1c0002row14_col1{\n",
              "            background-color:  #f5f5b1;\n",
              "            color:  #000000;\n",
              "        }#T_5061547e_5439_11ec_991d_0242ac1c0002row14_col3{\n",
              "            background-color:  #f4f4bb;\n",
              "            color:  #000000;\n",
              "        }#T_5061547e_5439_11ec_991d_0242ac1c0002row15_col2,#T_5061547e_5439_11ec_991d_0242ac1c0002row18_col3{\n",
              "            background-color:  #f2f2dc;\n",
              "            color:  #000000;\n",
              "        }#T_5061547e_5439_11ec_991d_0242ac1c0002row15_col3{\n",
              "            background-color:  #f3f3ce;\n",
              "            color:  #000000;\n",
              "        }#T_5061547e_5439_11ec_991d_0242ac1c0002row16_col1,#T_5061547e_5439_11ec_991d_0242ac1c0002row18_col2,#T_5061547e_5439_11ec_991d_0242ac1c0002row19_col3{\n",
              "            background-color:  #f2f2dd;\n",
              "            color:  #000000;\n",
              "        }#T_5061547e_5439_11ec_991d_0242ac1c0002row16_col2{\n",
              "            background-color:  #fafa5b;\n",
              "            color:  #000000;\n",
              "        }#T_5061547e_5439_11ec_991d_0242ac1c0002row16_col3{\n",
              "            background-color:  #f3f3cf;\n",
              "            color:  #000000;\n",
              "        }#T_5061547e_5439_11ec_991d_0242ac1c0002row17_col1{\n",
              "            background-color:  #f2f2d7;\n",
              "            color:  #000000;\n",
              "        }#T_5061547e_5439_11ec_991d_0242ac1c0002row17_col2{\n",
              "            background-color:  #f8f878;\n",
              "            color:  #000000;\n",
              "        }#T_5061547e_5439_11ec_991d_0242ac1c0002row17_col3{\n",
              "            background-color:  #f2f2da;\n",
              "            color:  #000000;\n",
              "        }#T_5061547e_5439_11ec_991d_0242ac1c0002row18_col1{\n",
              "            background-color:  #f8f877;\n",
              "            color:  #000000;\n",
              "        }#T_5061547e_5439_11ec_991d_0242ac1c0002row19_col2{\n",
              "            background-color:  #f2f2d8;\n",
              "            color:  #000000;\n",
              "        }</style><table id=\"T_5061547e_5439_11ec_991d_0242ac1c0002\" class=\"dataframe\"><thead>    <tr>        <th class=\"blank level0\" ></th>        <th class=\"col_heading level0 col0\" >Book-Title</th>        <th class=\"col_heading level0 col1\" >Total_No_Of_Users_Rated</th>        <th class=\"col_heading level0 col2\" >Avg_Rating</th>        <th class=\"col_heading level0 col3\" >Score</th>    </tr></thead><tbody>\n",
              "                <tr>\n",
              "                        <th id=\"T_5061547e_5439_11ec_991d_0242ac1c0002level0_row0\" class=\"row_heading level0 row0\" >0</th>\n",
              "                        <td id=\"T_5061547e_5439_11ec_991d_0242ac1c0002row0_col0\" class=\"data row0 col0\" >Harry Potter and the Goblet of Fire (Book 4)</td>\n",
              "                        <td id=\"T_5061547e_5439_11ec_991d_0242ac1c0002row0_col1\" class=\"data row0 col1\" >137</td>\n",
              "                        <td id=\"T_5061547e_5439_11ec_991d_0242ac1c0002row0_col2\" class=\"data row0 col2\" >9.262774</td>\n",
              "                        <td id=\"T_5061547e_5439_11ec_991d_0242ac1c0002row0_col3\" class=\"data row0 col3\" >8.741835</td>\n",
              "            </tr>\n",
              "            <tr>\n",
              "                        <th id=\"T_5061547e_5439_11ec_991d_0242ac1c0002level0_row1\" class=\"row_heading level0 row1\" >1</th>\n",
              "                        <td id=\"T_5061547e_5439_11ec_991d_0242ac1c0002row1_col0\" class=\"data row1 col0\" >Harry Potter and the Sorcerer's Stone (Harry Potter (Paperback))</td>\n",
              "                        <td id=\"T_5061547e_5439_11ec_991d_0242ac1c0002row1_col1\" class=\"data row1 col1\" >313</td>\n",
              "                        <td id=\"T_5061547e_5439_11ec_991d_0242ac1c0002row1_col2\" class=\"data row1 col2\" >8.939297</td>\n",
              "                        <td id=\"T_5061547e_5439_11ec_991d_0242ac1c0002row1_col3\" class=\"data row1 col3\" >8.716469</td>\n",
              "            </tr>\n",
              "            <tr>\n",
              "                        <th id=\"T_5061547e_5439_11ec_991d_0242ac1c0002level0_row2\" class=\"row_heading level0 row2\" >2</th>\n",
              "                        <td id=\"T_5061547e_5439_11ec_991d_0242ac1c0002row2_col0\" class=\"data row2 col0\" >Harry Potter and the Order of the Phoenix (Book 5)</td>\n",
              "                        <td id=\"T_5061547e_5439_11ec_991d_0242ac1c0002row2_col1\" class=\"data row2 col1\" >206</td>\n",
              "                        <td id=\"T_5061547e_5439_11ec_991d_0242ac1c0002row2_col2\" class=\"data row2 col2\" >9.033981</td>\n",
              "                        <td id=\"T_5061547e_5439_11ec_991d_0242ac1c0002row2_col3\" class=\"data row2 col3\" >8.700403</td>\n",
              "            </tr>\n",
              "            <tr>\n",
              "                        <th id=\"T_5061547e_5439_11ec_991d_0242ac1c0002level0_row3\" class=\"row_heading level0 row3\" >3</th>\n",
              "                        <td id=\"T_5061547e_5439_11ec_991d_0242ac1c0002row3_col0\" class=\"data row3 col0\" >To Kill a Mockingbird</td>\n",
              "                        <td id=\"T_5061547e_5439_11ec_991d_0242ac1c0002row3_col1\" class=\"data row3 col1\" >214</td>\n",
              "                        <td id=\"T_5061547e_5439_11ec_991d_0242ac1c0002row3_col2\" class=\"data row3 col2\" >8.943925</td>\n",
              "                        <td id=\"T_5061547e_5439_11ec_991d_0242ac1c0002row3_col3\" class=\"data row3 col3\" >8.640679</td>\n",
              "            </tr>\n",
              "            <tr>\n",
              "                        <th id=\"T_5061547e_5439_11ec_991d_0242ac1c0002level0_row4\" class=\"row_heading level0 row4\" >4</th>\n",
              "                        <td id=\"T_5061547e_5439_11ec_991d_0242ac1c0002row4_col0\" class=\"data row4 col0\" >Harry Potter and the Prisoner of Azkaban (Book 3)</td>\n",
              "                        <td id=\"T_5061547e_5439_11ec_991d_0242ac1c0002row4_col1\" class=\"data row4 col1\" >133</td>\n",
              "                        <td id=\"T_5061547e_5439_11ec_991d_0242ac1c0002row4_col2\" class=\"data row4 col2\" >9.082707</td>\n",
              "                        <td id=\"T_5061547e_5439_11ec_991d_0242ac1c0002row4_col3\" class=\"data row4 col3\" >8.609690</td>\n",
              "            </tr>\n",
              "            <tr>\n",
              "                        <th id=\"T_5061547e_5439_11ec_991d_0242ac1c0002level0_row5\" class=\"row_heading level0 row5\" >5</th>\n",
              "                        <td id=\"T_5061547e_5439_11ec_991d_0242ac1c0002row5_col0\" class=\"data row5 col0\" >The Return of the King (The Lord of the Rings, Part 3)</td>\n",
              "                        <td id=\"T_5061547e_5439_11ec_991d_0242ac1c0002row5_col1\" class=\"data row5 col1\" >77</td>\n",
              "                        <td id=\"T_5061547e_5439_11ec_991d_0242ac1c0002row5_col2\" class=\"data row5 col2\" >9.402597</td>\n",
              "                        <td id=\"T_5061547e_5439_11ec_991d_0242ac1c0002row5_col3\" class=\"data row5 col3\" >8.596517</td>\n",
              "            </tr>\n",
              "            <tr>\n",
              "                        <th id=\"T_5061547e_5439_11ec_991d_0242ac1c0002level0_row6\" class=\"row_heading level0 row6\" >6</th>\n",
              "                        <td id=\"T_5061547e_5439_11ec_991d_0242ac1c0002row6_col0\" class=\"data row6 col0\" >Harry Potter and the Prisoner of Azkaban (Book 3)</td>\n",
              "                        <td id=\"T_5061547e_5439_11ec_991d_0242ac1c0002row6_col1\" class=\"data row6 col1\" >141</td>\n",
              "                        <td id=\"T_5061547e_5439_11ec_991d_0242ac1c0002row6_col2\" class=\"data row6 col2\" >9.035461</td>\n",
              "                        <td id=\"T_5061547e_5439_11ec_991d_0242ac1c0002row6_col3\" class=\"data row6 col3\" >8.595653</td>\n",
              "            </tr>\n",
              "            <tr>\n",
              "                        <th id=\"T_5061547e_5439_11ec_991d_0242ac1c0002level0_row7\" class=\"row_heading level0 row7\" >7</th>\n",
              "                        <td id=\"T_5061547e_5439_11ec_991d_0242ac1c0002row7_col0\" class=\"data row7 col0\" >Harry Potter and the Sorcerer's Stone (Book 1)</td>\n",
              "                        <td id=\"T_5061547e_5439_11ec_991d_0242ac1c0002row7_col1\" class=\"data row7 col1\" >119</td>\n",
              "                        <td id=\"T_5061547e_5439_11ec_991d_0242ac1c0002row7_col2\" class=\"data row7 col2\" >8.983193</td>\n",
              "                        <td id=\"T_5061547e_5439_11ec_991d_0242ac1c0002row7_col3\" class=\"data row7 col3\" >8.508791</td>\n",
              "            </tr>\n",
              "            <tr>\n",
              "                        <th id=\"T_5061547e_5439_11ec_991d_0242ac1c0002level0_row8\" class=\"row_heading level0 row8\" >8</th>\n",
              "                        <td id=\"T_5061547e_5439_11ec_991d_0242ac1c0002row8_col0\" class=\"data row8 col0\" >Harry Potter and the Chamber of Secrets (Book 2)</td>\n",
              "                        <td id=\"T_5061547e_5439_11ec_991d_0242ac1c0002row8_col1\" class=\"data row8 col1\" >189</td>\n",
              "                        <td id=\"T_5061547e_5439_11ec_991d_0242ac1c0002row8_col2\" class=\"data row8 col2\" >8.783069</td>\n",
              "                        <td id=\"T_5061547e_5439_11ec_991d_0242ac1c0002row8_col3\" class=\"data row8 col3\" >8.490549</td>\n",
              "            </tr>\n",
              "            <tr>\n",
              "                        <th id=\"T_5061547e_5439_11ec_991d_0242ac1c0002level0_row9\" class=\"row_heading level0 row9\" >9</th>\n",
              "                        <td id=\"T_5061547e_5439_11ec_991d_0242ac1c0002row9_col0\" class=\"data row9 col0\" >Harry Potter and the Chamber of Secrets (Book 2)</td>\n",
              "                        <td id=\"T_5061547e_5439_11ec_991d_0242ac1c0002row9_col1\" class=\"data row9 col1\" >126</td>\n",
              "                        <td id=\"T_5061547e_5439_11ec_991d_0242ac1c0002row9_col2\" class=\"data row9 col2\" >8.920635</td>\n",
              "                        <td id=\"T_5061547e_5439_11ec_991d_0242ac1c0002row9_col3\" class=\"data row9 col3\" >8.484783</td>\n",
              "            </tr>\n",
              "            <tr>\n",
              "                        <th id=\"T_5061547e_5439_11ec_991d_0242ac1c0002level0_row10\" class=\"row_heading level0 row10\" >10</th>\n",
              "                        <td id=\"T_5061547e_5439_11ec_991d_0242ac1c0002row10_col0\" class=\"data row10 col0\" >The Two Towers (The Lord of the Rings, Part 2)</td>\n",
              "                        <td id=\"T_5061547e_5439_11ec_991d_0242ac1c0002row10_col1\" class=\"data row10 col1\" >83</td>\n",
              "                        <td id=\"T_5061547e_5439_11ec_991d_0242ac1c0002row10_col2\" class=\"data row10 col2\" >9.120482</td>\n",
              "                        <td id=\"T_5061547e_5439_11ec_991d_0242ac1c0002row10_col3\" class=\"data row10 col3\" >8.470128</td>\n",
              "            </tr>\n",
              "            <tr>\n",
              "                        <th id=\"T_5061547e_5439_11ec_991d_0242ac1c0002level0_row11\" class=\"row_heading level0 row11\" >11</th>\n",
              "                        <td id=\"T_5061547e_5439_11ec_991d_0242ac1c0002row11_col0\" class=\"data row11 col0\" >Harry Potter and the Goblet of Fire (Book 4)</td>\n",
              "                        <td id=\"T_5061547e_5439_11ec_991d_0242ac1c0002row11_col1\" class=\"data row11 col1\" >110</td>\n",
              "                        <td id=\"T_5061547e_5439_11ec_991d_0242ac1c0002row11_col2\" class=\"data row11 col2\" >8.954545</td>\n",
              "                        <td id=\"T_5061547e_5439_11ec_991d_0242ac1c0002row11_col3\" class=\"data row11 col3\" >8.466143</td>\n",
              "            </tr>\n",
              "            <tr>\n",
              "                        <th id=\"T_5061547e_5439_11ec_991d_0242ac1c0002level0_row12\" class=\"row_heading level0 row12\" >12</th>\n",
              "                        <td id=\"T_5061547e_5439_11ec_991d_0242ac1c0002row12_col0\" class=\"data row12 col0\" >The Fellowship of the Ring (The Lord of the Rings, Part 1)</td>\n",
              "                        <td id=\"T_5061547e_5439_11ec_991d_0242ac1c0002row12_col1\" class=\"data row12 col1\" >131</td>\n",
              "                        <td id=\"T_5061547e_5439_11ec_991d_0242ac1c0002row12_col2\" class=\"data row12 col2\" >8.839695</td>\n",
              "                        <td id=\"T_5061547e_5439_11ec_991d_0242ac1c0002row12_col3\" class=\"data row12 col3\" >8.441584</td>\n",
              "            </tr>\n",
              "            <tr>\n",
              "                        <th id=\"T_5061547e_5439_11ec_991d_0242ac1c0002level0_row13\" class=\"row_heading level0 row13\" >13</th>\n",
              "                        <td id=\"T_5061547e_5439_11ec_991d_0242ac1c0002row13_col0\" class=\"data row13 col0\" >The Hobbit : The Enchanting Prelude to The Lord of the Rings</td>\n",
              "                        <td id=\"T_5061547e_5439_11ec_991d_0242ac1c0002row13_col1\" class=\"data row13 col1\" >161</td>\n",
              "                        <td id=\"T_5061547e_5439_11ec_991d_0242ac1c0002row13_col2\" class=\"data row13 col2\" >8.739130</td>\n",
              "                        <td id=\"T_5061547e_5439_11ec_991d_0242ac1c0002row13_col3\" class=\"data row13 col3\" >8.422706</td>\n",
              "            </tr>\n",
              "            <tr>\n",
              "                        <th id=\"T_5061547e_5439_11ec_991d_0242ac1c0002level0_row14\" class=\"row_heading level0 row14\" >14</th>\n",
              "                        <td id=\"T_5061547e_5439_11ec_991d_0242ac1c0002row14_col0\" class=\"data row14 col0\" >Ender's Game (Ender Wiggins Saga (Paperback))</td>\n",
              "                        <td id=\"T_5061547e_5439_11ec_991d_0242ac1c0002row14_col1\" class=\"data row14 col1\" >117</td>\n",
              "                        <td id=\"T_5061547e_5439_11ec_991d_0242ac1c0002row14_col2\" class=\"data row14 col2\" >8.837607</td>\n",
              "                        <td id=\"T_5061547e_5439_11ec_991d_0242ac1c0002row14_col3\" class=\"data row14 col3\" >8.409441</td>\n",
              "            </tr>\n",
              "            <tr>\n",
              "                        <th id=\"T_5061547e_5439_11ec_991d_0242ac1c0002level0_row15\" class=\"row_heading level0 row15\" >15</th>\n",
              "                        <td id=\"T_5061547e_5439_11ec_991d_0242ac1c0002row15_col0\" class=\"data row15 col0\" >Tuesdays with Morrie: An Old Man, a Young Man, and Life's Greatest Lesson</td>\n",
              "                        <td id=\"T_5061547e_5439_11ec_991d_0242ac1c0002row15_col1\" class=\"data row15 col1\" >200</td>\n",
              "                        <td id=\"T_5061547e_5439_11ec_991d_0242ac1c0002row15_col2\" class=\"data row15 col2\" >8.615000</td>\n",
              "                        <td id=\"T_5061547e_5439_11ec_991d_0242ac1c0002row15_col3\" class=\"data row15 col3\" >8.375412</td>\n",
              "            </tr>\n",
              "            <tr>\n",
              "                        <th id=\"T_5061547e_5439_11ec_991d_0242ac1c0002level0_row16\" class=\"row_heading level0 row16\" >16</th>\n",
              "                        <td id=\"T_5061547e_5439_11ec_991d_0242ac1c0002row16_col0\" class=\"data row16 col0\" >Charlotte's Web (Trophy Newbery)</td>\n",
              "                        <td id=\"T_5061547e_5439_11ec_991d_0242ac1c0002row16_col1\" class=\"data row16 col1\" >68</td>\n",
              "                        <td id=\"T_5061547e_5439_11ec_991d_0242ac1c0002row16_col2\" class=\"data row16 col2\" >9.073529</td>\n",
              "                        <td id=\"T_5061547e_5439_11ec_991d_0242ac1c0002row16_col3\" class=\"data row16 col3\" >8.372037</td>\n",
              "            </tr>\n",
              "            <tr>\n",
              "                        <th id=\"T_5061547e_5439_11ec_991d_0242ac1c0002level0_row17\" class=\"row_heading level0 row17\" >17</th>\n",
              "                        <td id=\"T_5061547e_5439_11ec_991d_0242ac1c0002row17_col0\" class=\"data row17 col0\" >Dune (Remembering Tomorrow)</td>\n",
              "                        <td id=\"T_5061547e_5439_11ec_991d_0242ac1c0002row17_col1\" class=\"data row17 col1\" >75</td>\n",
              "                        <td id=\"T_5061547e_5439_11ec_991d_0242ac1c0002row17_col2\" class=\"data row17 col2\" >8.973333</td>\n",
              "                        <td id=\"T_5061547e_5439_11ec_991d_0242ac1c0002row17_col3\" class=\"data row17 col3\" >8.353301</td>\n",
              "            </tr>\n",
              "            <tr>\n",
              "                        <th id=\"T_5061547e_5439_11ec_991d_0242ac1c0002level0_row18\" class=\"row_heading level0 row18\" >18</th>\n",
              "                        <td id=\"T_5061547e_5439_11ec_991d_0242ac1c0002row18_col0\" class=\"data row18 col0\" >A Prayer for Owen Meany</td>\n",
              "                        <td id=\"T_5061547e_5439_11ec_991d_0242ac1c0002row18_col1\" class=\"data row18 col1\" >181</td>\n",
              "                        <td id=\"T_5061547e_5439_11ec_991d_0242ac1c0002row18_col2\" class=\"data row18 col2\" >8.607735</td>\n",
              "                        <td id=\"T_5061547e_5439_11ec_991d_0242ac1c0002row18_col3\" class=\"data row18 col3\" >8.351465</td>\n",
              "            </tr>\n",
              "            <tr>\n",
              "                        <th id=\"T_5061547e_5439_11ec_991d_0242ac1c0002level0_row19\" class=\"row_heading level0 row19\" >19</th>\n",
              "                        <td id=\"T_5061547e_5439_11ec_991d_0242ac1c0002row19_col0\" class=\"data row19 col0\" >Fahrenheit 451</td>\n",
              "                        <td id=\"T_5061547e_5439_11ec_991d_0242ac1c0002row19_col1\" class=\"data row19 col1\" >164</td>\n",
              "                        <td id=\"T_5061547e_5439_11ec_991d_0242ac1c0002row19_col2\" class=\"data row19 col2\" >8.628049</td>\n",
              "                        <td id=\"T_5061547e_5439_11ec_991d_0242ac1c0002row19_col3\" class=\"data row19 col3\" >8.346969</td>\n",
              "            </tr>\n",
              "    </tbody></table>"
            ],
            "text/plain": [
              "<pandas.io.formats.style.Styler at 0x7faac8917a90>"
            ]
          },
          "metadata": {},
          "execution_count": 71
        }
      ]
    },
    {
      "cell_type": "markdown",
      "metadata": {
        "id": "fZvv7iAtgWiQ"
      },
      "source": [
        "The Popularity based recommender provide a general chart of recommended books to all the users. They are not sensitive to the interests and tastes of a particular user."
      ]
    },
    {
      "cell_type": "markdown",
      "metadata": {
        "id": "7JvGR4cm5L0G"
      },
      "source": [
        "# **Model Based Collaborative Filtering Recommender**\n",
        "The goal of the recommender system is to predict user preference for a set of items based on the past experience. Two the most popular approaches are Content-Based and Collaborative Filtering.\n",
        "<br>Collaborative filtering is a technique used by websites like Amazon, YouTube, and Netflix. It filters out items that a user might like on the basis of reactions of similar users. There are two categories of collaborative filtering algorithms: memory based and model based.\n",
        "<br>\n",
        "Model based approach involves building machine learning algorithms to predict user's ratings. They involve dimensionality reduction methods that reduce high dimensional matrix containing abundant number of missing values with a much smaller matrix in lower-dimensional space.\n",
        "<br>\n",
        "The goal of this section is to compare SVD and NMF algorithms, try different configurations of parameters and explore obtained results."
      ]
    },
    {
      "cell_type": "code",
      "metadata": {
        "id": "hfzIXezz6e8O"
      },
      "source": [
        "import scipy\n",
        "import math\n",
        "import sklearn\n",
        "from nltk.corpus import stopwords\n",
        "from sklearn.model_selection import train_test_split\n",
        "from sklearn.feature_extraction.text import TfidfVectorizer\n",
        "from sklearn.metrics.pairwise import cosine_similarity\n",
        "from scipy.sparse.linalg import svds\n",
        "import matplotlib.pyplot as plt"
      ],
      "execution_count": 72,
      "outputs": []
    },
    {
      "cell_type": "markdown",
      "metadata": {
        "id": "hDKR-qVE6rPm"
      },
      "source": [
        "This analysis will focus on book recommendations based on Book-Crossing dataset. To reduce the dimensionality of the dataset and avoid running into memory error we will focus on users with at least 3 ratings and top 10% most frequently rated books. \n",
        "<br>\n",
        "The recommender systems will be built using surprise package (Matrix Factorization - based models)."
      ]
    },
    {
      "cell_type": "code",
      "metadata": {
        "id": "YdHejqsAY3xe"
      },
      "source": [
        "#renaming the column name\n",
        "ratings_non_zero.rename(columns = {'User-ID':'user_id' ,'ISBN':'isbn' ,'Book-Rating':'book_rating'},inplace=True)"
      ],
      "execution_count": 73,
      "outputs": []
    },
    {
      "cell_type": "code",
      "metadata": {
        "colab": {
          "base_uri": "https://localhost:8080/"
        },
        "id": "VL3dbmYDY3uD",
        "outputId": "f249c853-6784-4ba8-afa4-2ffa4f2fbe3e"
      },
      "source": [
        "#extracting more than 2 ratings in which book\n",
        "user_ratings_threshold = 3\n",
        "\n",
        "filter_users = ratings_non_zero['user_id'].value_counts()\n",
        "filter_users_list = filter_users[filter_users >= user_ratings_threshold].index.to_list()\n",
        "\n",
        "df_ratings_top = ratings_non_zero[ratings_non_zero['user_id'].isin(filter_users_list)]\n",
        "\n",
        "print('Filter: users with at least %d ratings\\nNumber of records: %d' % (user_ratings_threshold, len(df_ratings_top)))"
      ],
      "execution_count": 74,
      "outputs": [
        {
          "output_type": "stream",
          "name": "stdout",
          "text": [
            "Filter: users with at least 3 ratings\n",
            "Number of records: 327271\n"
          ]
        }
      ]
    },
    {
      "cell_type": "code",
      "metadata": {
        "colab": {
          "base_uri": "https://localhost:8080/"
        },
        "id": "flCZg72xY3nj",
        "outputId": "4772dbd9-4d92-45ff-8b79-340fa6b6895c"
      },
      "source": [
        "# top 10% most frequently rated books\n",
        "book_ratings_threshold_perc = 0.1\n",
        "book_ratings_threshold = len(df_ratings_top['isbn'].unique()) * book_ratings_threshold_perc\n",
        "\n",
        "filter_books_list = df_ratings_top['isbn'].value_counts().head(int(book_ratings_threshold)).index.to_list()\n",
        "df_ratings_top = df_ratings_top[df_ratings_top['isbn'].isin(filter_books_list)]\n",
        "\n",
        "print('Filter: top %d%% most frequently rated books\\nNumber of records: %d' % (book_ratings_threshold_perc*100, len(df_ratings_top)))"
      ],
      "execution_count": 75,
      "outputs": [
        {
          "output_type": "stream",
          "name": "stdout",
          "text": [
            "Filter: top 10% most frequently rated books\n",
            "Number of records: 160787\n"
          ]
        }
      ]
    },
    {
      "cell_type": "markdown",
      "metadata": {
        "id": "_qfRBBg97uzy"
      },
      "source": [
        "SVD and NMF models comparison<br>\n",
        "Singular Value Decomposition (SVD) and Non-negative Matrix Factorization (NMF) are matrix factorization techniques used for dimensionality reduction. Surprise package provides implementation of those algorithms.\n"
      ]
    },
    {
      "cell_type": "code",
      "metadata": {
        "colab": {
          "base_uri": "https://localhost:8080/"
        },
        "id": "0vXuL3C9RWBw",
        "outputId": "900175bf-1764-4311-c7ce-1305009f848c"
      },
      "source": [
        "pip install surprise"
      ],
      "execution_count": 77,
      "outputs": [
        {
          "output_type": "stream",
          "name": "stdout",
          "text": [
            "Collecting surprise\n",
            "  Downloading surprise-0.1-py2.py3-none-any.whl (1.8 kB)\n",
            "Collecting scikit-surprise\n",
            "  Downloading scikit-surprise-1.1.1.tar.gz (11.8 MB)\n",
            "\u001b[K     |████████████████████████████████| 11.8 MB 5.0 MB/s \n",
            "\u001b[?25hRequirement already satisfied: joblib>=0.11 in /usr/local/lib/python3.7/dist-packages (from scikit-surprise->surprise) (1.1.0)\n",
            "Requirement already satisfied: numpy>=1.11.2 in /usr/local/lib/python3.7/dist-packages (from scikit-surprise->surprise) (1.19.5)\n",
            "Requirement already satisfied: scipy>=1.0.0 in /usr/local/lib/python3.7/dist-packages (from scikit-surprise->surprise) (1.4.1)\n",
            "Requirement already satisfied: six>=1.10.0 in /usr/local/lib/python3.7/dist-packages (from scikit-surprise->surprise) (1.15.0)\n",
            "Building wheels for collected packages: scikit-surprise\n",
            "  Building wheel for scikit-surprise (setup.py) ... \u001b[?25l\u001b[?25hdone\n",
            "  Created wheel for scikit-surprise: filename=scikit_surprise-1.1.1-cp37-cp37m-linux_x86_64.whl size=1619426 sha256=f606f070462460170aa9d09c5b83393e7c64637388d8ab75c24c6a6f047e1a9f\n",
            "  Stored in directory: /root/.cache/pip/wheels/76/44/74/b498c42be47b2406bd27994e16c5188e337c657025ab400c1c\n",
            "Successfully built scikit-surprise\n",
            "Installing collected packages: scikit-surprise, surprise\n",
            "Successfully installed scikit-surprise-1.1.1 surprise-0.1\n"
          ]
        }
      ]
    },
    {
      "cell_type": "code",
      "metadata": {
        "id": "nU9i3PziRWEH"
      },
      "source": [
        "# importing surprise package\n",
        "from surprise import Dataset, Reader\n",
        "from surprise import SVD, NMF\n",
        "from surprise.model_selection import cross_validate, train_test_split, GridSearchCV"
      ],
      "execution_count": 78,
      "outputs": []
    },
    {
      "cell_type": "code",
      "metadata": {
        "id": "J4vhH0-FRV-5"
      },
      "source": [
        "#top 10% most frequently rated books with selected feature\n",
        "df=df_ratings_top.copy()\n",
        "reader = Reader(rating_scale=(1, 10))\n",
        "data = Dataset.load_from_df(df[['user_id', 'isbn', 'book_rating']], reader)"
      ],
      "execution_count": 79,
      "outputs": []
    },
    {
      "cell_type": "code",
      "metadata": {
        "colab": {
          "base_uri": "https://localhost:8080/"
        },
        "id": "Ty60HiULVuGt",
        "outputId": "bb62aa35-1f30-4804-81cd-7a62d9af9c57"
      },
      "source": [
        "#SVD model accuracy\n",
        "model_svd = SVD()\n",
        "cv_results_svd = cross_validate(model_svd, data, cv=3)\n",
        "pd.DataFrame(cv_results_svd).mean()"
      ],
      "execution_count": 80,
      "outputs": [
        {
          "output_type": "execute_result",
          "data": {
            "text/plain": [
              "test_rmse    1.602671\n",
              "test_mae     1.240250\n",
              "fit_time     7.091781\n",
              "test_time    0.670742\n",
              "dtype: float64"
            ]
          },
          "metadata": {},
          "execution_count": 80
        }
      ]
    },
    {
      "cell_type": "code",
      "metadata": {
        "colab": {
          "base_uri": "https://localhost:8080/"
        },
        "id": "s9Z2XE0RWCLv",
        "outputId": "00c1a0e1-b541-4ec8-f683-bb7b4513ac6f"
      },
      "source": [
        "#NMF model accuracy\n",
        "model_nmf = NMF()\n",
        "cv_results_nmf = cross_validate(model_nmf, data, cv=3)\n",
        "pd.DataFrame(cv_results_nmf).mean()"
      ],
      "execution_count": 81,
      "outputs": [
        {
          "output_type": "execute_result",
          "data": {
            "text/plain": [
              "test_rmse     2.622645\n",
              "test_mae      2.240956\n",
              "fit_time     11.538491\n",
              "test_time     0.567849\n",
              "dtype: float64"
            ]
          },
          "metadata": {},
          "execution_count": 81
        }
      ]
    },
    {
      "cell_type": "markdown",
      "metadata": {
        "id": "IgQi0aJhL8zS"
      },
      "source": [
        "It's clear that for the given dataset much better results can be obtained with SVD approach - both in terms of accuracy and training / testing time."
      ]
    },
    {
      "cell_type": "markdown",
      "metadata": {
        "id": "JlpkAa60Zrhr"
      },
      "source": [
        "## **Hyper parameter tunning**"
      ]
    },
    {
      "cell_type": "markdown",
      "metadata": {
        "id": "4SQwntNC8UPa"
      },
      "source": [
        "##**Optimisation of SVD algorithm**<br>\n",
        "Grid Search Cross Validation computes accuracy metrics for an algorithm on various combinations of parameters, over a cross-validation procedure. It's useful for finding the best configuration of parameters.\n",
        "<br>\n",
        "It is used to find the best setting of parameters:\n",
        "<br>\n",
        "n_factors - the number of factors<br>\n",
        "n_epochs - the number of iteration of the SGD procedure<br>\n",
        "lr_all - the learning rate for all parameters<br>\n",
        "reg_all - the regularization term for all parameters<br>\n",
        "As a result, regarding the majority of parameters, the default setting is the most optimal one. The improvement obtained with Grid Search is very small."
      ]
    },
    {
      "cell_type": "code",
      "metadata": {
        "colab": {
          "base_uri": "https://localhost:8080/"
        },
        "id": "F0N0x73VWZXU",
        "outputId": "126b81d3-4f9e-4a2b-c6e5-aef6165ef0ac"
      },
      "source": [
        "#Hyperparameter tuning\n",
        "param_grid = {'n_factors': [80,100],\n",
        "              'n_epochs': [5, 20],\n",
        "              'lr_all': [0.002, 0.005],\n",
        "              'reg_all': [0.2, 0.4]}\n",
        "\n",
        "gs = GridSearchCV(SVD, param_grid, measures=['rmse', 'mae'], cv=3)\n",
        "gs.fit(data)\n",
        "\n",
        "print(gs.best_score['rmse'])\n",
        "print(gs.best_params['rmse'])"
      ],
      "execution_count": 82,
      "outputs": [
        {
          "output_type": "stream",
          "name": "stdout",
          "text": [
            "1.5938486245022891\n",
            "{'n_factors': 80, 'n_epochs': 20, 'lr_all': 0.005, 'reg_all': 0.2}\n"
          ]
        }
      ]
    },
    {
      "cell_type": "markdown",
      "metadata": {
        "id": "DV2BIk4A881O"
      },
      "source": [
        "## **Analysis of Collaborative Filtering model results**\n",
        "In this part, let's examine in detail the results obtained by the SVD model that provided the best RMSE score."
      ]
    },
    {
      "cell_type": "code",
      "metadata": {
        "id": "2apZo8CkW1p7"
      },
      "source": [
        "#splitting dataset(top 10% most frequently rated books with selected feature) into training and testing dataset\n",
        "trainset, testset = train_test_split(data, test_size=0.2)\n",
        "\n",
        "model = SVD(n_factors=80, n_epochs=20, lr_all=0.005, reg_all=0.2)\n",
        "model.fit(trainset)\n",
        "predictions = model.test(testset)"
      ],
      "execution_count": 83,
      "outputs": []
    },
    {
      "cell_type": "code",
      "metadata": {
        "colab": {
          "base_uri": "https://localhost:8080/",
          "height": 206
        },
        "id": "eBQ6xFOlfenD",
        "outputId": "870488cc-c161-48f8-9c12-151e42f3d863"
      },
      "source": [
        "#predicting ratings for books\n",
        "df_pred = pd.DataFrame(predictions, columns=['user_id', 'isbn', 'actual_rating', 'pred_rating', 'details'])\n",
        "df_pred['impossible'] = df_pred['details'].apply(lambda x: x['was_impossible'])\n",
        "df_pred['pred_rating_round'] = df_pred['pred_rating'].round()\n",
        "df_pred['abs_err'] = abs(df_pred['pred_rating'] - df_pred['actual_rating'])\n",
        "df_pred.drop(['details'], axis=1, inplace=True)\n",
        "df_pred.sample(5)"
      ],
      "execution_count": 84,
      "outputs": [
        {
          "output_type": "execute_result",
          "data": {
            "text/html": [
              "<div>\n",
              "<style scoped>\n",
              "    .dataframe tbody tr th:only-of-type {\n",
              "        vertical-align: middle;\n",
              "    }\n",
              "\n",
              "    .dataframe tbody tr th {\n",
              "        vertical-align: top;\n",
              "    }\n",
              "\n",
              "    .dataframe thead th {\n",
              "        text-align: right;\n",
              "    }\n",
              "</style>\n",
              "<table border=\"1\" class=\"dataframe\">\n",
              "  <thead>\n",
              "    <tr style=\"text-align: right;\">\n",
              "      <th></th>\n",
              "      <th>user_id</th>\n",
              "      <th>isbn</th>\n",
              "      <th>actual_rating</th>\n",
              "      <th>pred_rating</th>\n",
              "      <th>impossible</th>\n",
              "      <th>pred_rating_round</th>\n",
              "      <th>abs_err</th>\n",
              "    </tr>\n",
              "  </thead>\n",
              "  <tbody>\n",
              "    <tr>\n",
              "      <th>25166</th>\n",
              "      <td>28204</td>\n",
              "      <td>0552996009</td>\n",
              "      <td>9.0</td>\n",
              "      <td>7.585262</td>\n",
              "      <td>False</td>\n",
              "      <td>8.0</td>\n",
              "      <td>1.414738</td>\n",
              "    </tr>\n",
              "    <tr>\n",
              "      <th>3168</th>\n",
              "      <td>81216</td>\n",
              "      <td>0446603589</td>\n",
              "      <td>8.0</td>\n",
              "      <td>7.252649</td>\n",
              "      <td>False</td>\n",
              "      <td>7.0</td>\n",
              "      <td>0.747351</td>\n",
              "    </tr>\n",
              "    <tr>\n",
              "      <th>25765</th>\n",
              "      <td>277195</td>\n",
              "      <td>1573221856</td>\n",
              "      <td>10.0</td>\n",
              "      <td>8.201563</td>\n",
              "      <td>False</td>\n",
              "      <td>8.0</td>\n",
              "      <td>1.798437</td>\n",
              "    </tr>\n",
              "    <tr>\n",
              "      <th>12206</th>\n",
              "      <td>110786</td>\n",
              "      <td>0399133844</td>\n",
              "      <td>10.0</td>\n",
              "      <td>7.916827</td>\n",
              "      <td>False</td>\n",
              "      <td>8.0</td>\n",
              "      <td>2.083173</td>\n",
              "    </tr>\n",
              "    <tr>\n",
              "      <th>28457</th>\n",
              "      <td>277562</td>\n",
              "      <td>0140043519</td>\n",
              "      <td>9.0</td>\n",
              "      <td>7.775006</td>\n",
              "      <td>False</td>\n",
              "      <td>8.0</td>\n",
              "      <td>1.224994</td>\n",
              "    </tr>\n",
              "  </tbody>\n",
              "</table>\n",
              "</div>"
            ],
            "text/plain": [
              "       user_id        isbn  ...  pred_rating_round   abs_err\n",
              "25166    28204  0552996009  ...                8.0  1.414738\n",
              "3168     81216  0446603589  ...                7.0  0.747351\n",
              "25765   277195  1573221856  ...                8.0  1.798437\n",
              "12206   110786  0399133844  ...                8.0  2.083173\n",
              "28457   277562  0140043519  ...                8.0  1.224994\n",
              "\n",
              "[5 rows x 7 columns]"
            ]
          },
          "metadata": {},
          "execution_count": 84
        }
      ]
    },
    {
      "cell_type": "code",
      "metadata": {
        "colab": {
          "base_uri": "https://localhost:8080/",
          "height": 296
        },
        "id": "TfKdkITjfr7R",
        "outputId": "0f7ed395-594a-479d-80b0-b6dee6bbb538"
      },
      "source": [
        "#visualize actual ratings and predicted ratings\n",
        "palette = sns.color_palette(\"RdBu\", 10)\n",
        "fig, (ax1, ax2) = plt.subplots(nrows=1, ncols=2, figsize=(14, 4))\n",
        "\n",
        "sns.countplot(x='actual_rating', data=df_pred, palette=palette, ax=ax1)\n",
        "ax1.set_title('Distribution of actual ratings of books in the test set')\n",
        "\n",
        "sns.countplot(x='pred_rating_round', data=df_pred, palette=palette, ax=ax2)\n",
        "ax2.set_title('Distribution of predicted ratings of books in the test set')\n",
        "\n",
        "plt.show()"
      ],
      "execution_count": 85,
      "outputs": [
        {
          "output_type": "display_data",
          "data": {
            "image/png": "[encoded data removed]",
            "text/plain": [
              "<Figure size 1008x288 with 2 Axes>"
            ]
          },
          "metadata": {
            "needs_background": "light"
          }
        }
      ]
    },
    {
      "cell_type": "markdown",
      "metadata": {
        "id": "Pui-I5LJ9POQ"
      },
      "source": [
        "Distribution of actual and predicted ratings in the test set\n",
        "According to the distribution of actual ratings of books in the test set, the biggest part of users give positive scores - between 7 and 10. The mode equals 8 but count of ratings 7, 9, 10 is also noticeable. The distribution of predicted ratings in the test set is visibly different. One more time, 8 is a mode but scores 7, 9 and 10 are clearly less frequent.\n",
        "<br>\n",
        "It shows that the recommender system is not perfect and it cannot reflect the real distribution of book ratings."
      ]
    },
    {
      "cell_type": "code",
      "metadata": {
        "colab": {
          "base_uri": "https://localhost:8080/",
          "height": 296
        },
        "id": "9zPy4eb1fykN",
        "outputId": "267905ab-eec6-4cef-85f0-bcc9f04f6c27"
      },
      "source": [
        "#Visualize actual_rating vs abs_err\n",
        "df_pred_err = df_pred.groupby('actual_rating')['abs_err'].mean().reset_index()\n",
        "\n",
        "fig, (ax1, ax2) = plt.subplots(nrows=1, ncols=2, figsize=(14, 4))\n",
        "\n",
        "sns.distplot(df_pred['abs_err'], color='#2f6194', ax=ax1)\n",
        "ax1.set_title('Distribution of absolute error in test set')\n",
        "\n",
        "sns.barplot(x='actual_rating', y='abs_err', data=df_pred_err, palette=palette, ax=ax2)\n",
        "ax2.set_title('Mean absolute error for rating in test set')\n",
        "\n",
        "plt.show()"
      ],
      "execution_count": 86,
      "outputs": [
        {
          "output_type": "display_data",
          "data": {
            "image/png": "[encoded data removed]",
            "text/plain": [
              "<Figure size 1008x288 with 2 Axes>"
            ]
          },
          "metadata": {
            "needs_background": "light"
          }
        }
      ]
    },
    {
      "cell_type": "markdown",
      "metadata": {
        "id": "0uE6qph990dI"
      },
      "source": [
        "**Absolute error of predicted ratings**<br>\n",
        "The distribution of absolute errors is right-skewed, showing that the majority of errors is small: between 0 and 1. There is a long tail that indicates that there are several observations for which the absolute error was close to 10.\n",
        "<br>\n",
        "How good/bad the model is with predicting certain scores? As expected from the above charts, the model deals very well with predicting score = 8 (the most frequent value). The further the rating from score = 8, the higher the absolute error. The biggest errors happen to observations with scores 1 or 2 which indicates that probably the model is predicting high ratings for those observations."
      ]
    },
    {
      "cell_type": "code",
      "metadata": {
        "id": "xvTzeXGff1LX"
      },
      "source": [
        "#merging actual and predicted dataset\n",
        "df_books = books_df.copy()\n",
        "df_books.rename(columns = {'ISBN':'isbn' ,'Book-Title':'book_title'},inplace=True)\n",
        "df_ext = df.merge(df_books[['isbn', 'book_title']], on='isbn', how='left')\n",
        "df_ext = df_ext.merge(df_pred[['isbn', 'user_id', 'pred_rating']], on=['isbn', 'user_id'], how='left')"
      ],
      "execution_count": 87,
      "outputs": []
    },
    {
      "cell_type": "markdown",
      "metadata": {
        "id": "OQyBraEA-2JD"
      },
      "source": [
        "###Train set: Top rated books"
      ]
    },
    {
      "cell_type": "code",
      "metadata": {
        "colab": {
          "base_uri": "https://localhost:8080/",
          "height": 363
        },
        "id": "ZtN5ouA4mCxw",
        "outputId": "405479ff-aa67-46a4-8eb2-8f610cb887bb"
      },
      "source": [
        "#193458 user id with predictedt rating is NaN\n",
        "selected_user_id = 193458\n",
        "df_user = df_ext[df_ext['user_id']==selected_user_id]\n",
        "\n",
        "df_user[(df_user['pred_rating'].isna())&(df_user['book_rating']>=9)].sample(10)"
      ],
      "execution_count": 88,
      "outputs": [
        {
          "output_type": "execute_result",
          "data": {
            "text/html": [
              "<div>\n",
              "<style scoped>\n",
              "    .dataframe tbody tr th:only-of-type {\n",
              "        vertical-align: middle;\n",
              "    }\n",
              "\n",
              "    .dataframe tbody tr th {\n",
              "        vertical-align: top;\n",
              "    }\n",
              "\n",
              "    .dataframe thead th {\n",
              "        text-align: right;\n",
              "    }\n",
              "</style>\n",
              "<table border=\"1\" class=\"dataframe\">\n",
              "  <thead>\n",
              "    <tr style=\"text-align: right;\">\n",
              "      <th></th>\n",
              "      <th>user_id</th>\n",
              "      <th>isbn</th>\n",
              "      <th>book_rating</th>\n",
              "      <th>Avg_Rating</th>\n",
              "      <th>Total_No_Of_Users_Rated</th>\n",
              "      <th>book_title</th>\n",
              "      <th>pred_rating</th>\n",
              "    </tr>\n",
              "  </thead>\n",
              "  <tbody>\n",
              "    <tr>\n",
              "      <th>113570</th>\n",
              "      <td>193458</td>\n",
              "      <td>0679429220</td>\n",
              "      <td>9</td>\n",
              "      <td>7.794393</td>\n",
              "      <td>107</td>\n",
              "      <td>Midnight in the Garden of Good and Evil: A Sav...</td>\n",
              "      <td>NaN</td>\n",
              "    </tr>\n",
              "    <tr>\n",
              "      <th>113528</th>\n",
              "      <td>193458</td>\n",
              "      <td>0064471063</td>\n",
              "      <td>9</td>\n",
              "      <td>8.518519</td>\n",
              "      <td>27</td>\n",
              "      <td>The Horse and His Boy</td>\n",
              "      <td>NaN</td>\n",
              "    </tr>\n",
              "    <tr>\n",
              "      <th>113569</th>\n",
              "      <td>193458</td>\n",
              "      <td>0671880314</td>\n",
              "      <td>9</td>\n",
              "      <td>8.305556</td>\n",
              "      <td>36</td>\n",
              "      <td>Schindler's List</td>\n",
              "      <td>NaN</td>\n",
              "    </tr>\n",
              "    <tr>\n",
              "      <th>113536</th>\n",
              "      <td>193458</td>\n",
              "      <td>0140620125</td>\n",
              "      <td>9</td>\n",
              "      <td>8.133333</td>\n",
              "      <td>15</td>\n",
              "      <td>Wuthering Heights (Penguin Popular Classics)</td>\n",
              "      <td>NaN</td>\n",
              "    </tr>\n",
              "    <tr>\n",
              "      <th>113578</th>\n",
              "      <td>193458</td>\n",
              "      <td>1853260002</td>\n",
              "      <td>10</td>\n",
              "      <td>8.217391</td>\n",
              "      <td>23</td>\n",
              "      <td>Pride &amp;amp; Prejudice (Wordsworth Classics)</td>\n",
              "      <td>NaN</td>\n",
              "    </tr>\n",
              "    <tr>\n",
              "      <th>113538</th>\n",
              "      <td>193458</td>\n",
              "      <td>0142001740</td>\n",
              "      <td>9</td>\n",
              "      <td>8.452769</td>\n",
              "      <td>307</td>\n",
              "      <td>The Secret Life of Bees</td>\n",
              "      <td>NaN</td>\n",
              "    </tr>\n",
              "    <tr>\n",
              "      <th>113529</th>\n",
              "      <td>193458</td>\n",
              "      <td>0064471071</td>\n",
              "      <td>9</td>\n",
              "      <td>8.733333</td>\n",
              "      <td>15</td>\n",
              "      <td>The Voyage of the Dawn Treader (rack) (Narnia)</td>\n",
              "      <td>NaN</td>\n",
              "    </tr>\n",
              "    <tr>\n",
              "      <th>113566</th>\n",
              "      <td>193458</td>\n",
              "      <td>0553258001</td>\n",
              "      <td>9</td>\n",
              "      <td>8.236842</td>\n",
              "      <td>38</td>\n",
              "      <td>The Cider House Rules</td>\n",
              "      <td>NaN</td>\n",
              "    </tr>\n",
              "    <tr>\n",
              "      <th>113543</th>\n",
              "      <td>193458</td>\n",
              "      <td>0330352695</td>\n",
              "      <td>9</td>\n",
              "      <td>7.615385</td>\n",
              "      <td>13</td>\n",
              "      <td>Four Letters of Love</td>\n",
              "      <td>NaN</td>\n",
              "    </tr>\n",
              "    <tr>\n",
              "      <th>113527</th>\n",
              "      <td>193458</td>\n",
              "      <td>0064471055</td>\n",
              "      <td>9</td>\n",
              "      <td>8.545455</td>\n",
              "      <td>22</td>\n",
              "      <td>Prince Caspian (rack) : The Return to Narnia (...</td>\n",
              "      <td>NaN</td>\n",
              "    </tr>\n",
              "  </tbody>\n",
              "</table>\n",
              "</div>"
            ],
            "text/plain": [
              "        user_id  ... pred_rating\n",
              "113570   193458  ...         NaN\n",
              "113528   193458  ...         NaN\n",
              "113569   193458  ...         NaN\n",
              "113536   193458  ...         NaN\n",
              "113578   193458  ...         NaN\n",
              "113538   193458  ...         NaN\n",
              "113529   193458  ...         NaN\n",
              "113566   193458  ...         NaN\n",
              "113543   193458  ...         NaN\n",
              "113527   193458  ...         NaN\n",
              "\n",
              "[10 rows x 7 columns]"
            ]
          },
          "metadata": {},
          "execution_count": 88
        }
      ]
    },
    {
      "cell_type": "markdown",
      "metadata": {
        "id": "09Md0tLf_JU8"
      },
      "source": [
        "\n",
        "###Test set: predicted top rated books"
      ]
    },
    {
      "cell_type": "code",
      "metadata": {
        "colab": {
          "base_uri": "https://localhost:8080/",
          "height": 206
        },
        "id": "v-RJHh3gmHkT",
        "outputId": "66a4386b-2d1d-46bb-98b0-751cabcd87c9"
      },
      "source": [
        "#193458 user id with predicted top rated books\n",
        "df_user[df_user['pred_rating'].notna()].sort_values('pred_rating', ascending=False).head()"
      ],
      "execution_count": 89,
      "outputs": [
        {
          "output_type": "execute_result",
          "data": {
            "text/html": [
              "<div>\n",
              "<style scoped>\n",
              "    .dataframe tbody tr th:only-of-type {\n",
              "        vertical-align: middle;\n",
              "    }\n",
              "\n",
              "    .dataframe tbody tr th {\n",
              "        vertical-align: top;\n",
              "    }\n",
              "\n",
              "    .dataframe thead th {\n",
              "        text-align: right;\n",
              "    }\n",
              "</style>\n",
              "<table border=\"1\" class=\"dataframe\">\n",
              "  <thead>\n",
              "    <tr style=\"text-align: right;\">\n",
              "      <th></th>\n",
              "      <th>user_id</th>\n",
              "      <th>isbn</th>\n",
              "      <th>book_rating</th>\n",
              "      <th>Avg_Rating</th>\n",
              "      <th>Total_No_Of_Users_Rated</th>\n",
              "      <th>book_title</th>\n",
              "      <th>pred_rating</th>\n",
              "    </tr>\n",
              "  </thead>\n",
              "  <tbody>\n",
              "    <tr>\n",
              "      <th>113526</th>\n",
              "      <td>193458</td>\n",
              "      <td>0064471047</td>\n",
              "      <td>9</td>\n",
              "      <td>8.714286</td>\n",
              "      <td>42</td>\n",
              "      <td>The Lion, the Witch, and the Wardrobe (The Chr...</td>\n",
              "      <td>8.643094</td>\n",
              "    </tr>\n",
              "    <tr>\n",
              "      <th>113545</th>\n",
              "      <td>193458</td>\n",
              "      <td>0345361792</td>\n",
              "      <td>10</td>\n",
              "      <td>8.607735</td>\n",
              "      <td>181</td>\n",
              "      <td>A Prayer for Owen Meany</td>\n",
              "      <td>8.410950</td>\n",
              "    </tr>\n",
              "    <tr>\n",
              "      <th>113531</th>\n",
              "      <td>193458</td>\n",
              "      <td>0064471098</td>\n",
              "      <td>9</td>\n",
              "      <td>8.733333</td>\n",
              "      <td>15</td>\n",
              "      <td>The Silver Chair</td>\n",
              "      <td>8.183504</td>\n",
              "    </tr>\n",
              "    <tr>\n",
              "      <th>113550</th>\n",
              "      <td>193458</td>\n",
              "      <td>0345431057</td>\n",
              "      <td>9</td>\n",
              "      <td>9.125000</td>\n",
              "      <td>8</td>\n",
              "      <td>Slaves in the Family (Ballantine Reader's Circle)</td>\n",
              "      <td>8.058689</td>\n",
              "    </tr>\n",
              "    <tr>\n",
              "      <th>113558</th>\n",
              "      <td>193458</td>\n",
              "      <td>0449214206</td>\n",
              "      <td>8</td>\n",
              "      <td>8.333333</td>\n",
              "      <td>6</td>\n",
              "      <td>Covenant</td>\n",
              "      <td>7.982932</td>\n",
              "    </tr>\n",
              "  </tbody>\n",
              "</table>\n",
              "</div>"
            ],
            "text/plain": [
              "        user_id  ... pred_rating\n",
              "113526   193458  ...    8.643094\n",
              "113545   193458  ...    8.410950\n",
              "113531   193458  ...    8.183504\n",
              "113550   193458  ...    8.058689\n",
              "113558   193458  ...    7.982932\n",
              "\n",
              "[5 rows x 7 columns]"
            ]
          },
          "metadata": {},
          "execution_count": 89
        }
      ]
    },
    {
      "cell_type": "markdown",
      "metadata": {
        "id": "DsWkikT8_TDN"
      },
      "source": [
        "###Test set: actual top rated books"
      ]
    },
    {
      "cell_type": "code",
      "metadata": {
        "colab": {
          "base_uri": "https://localhost:8080/",
          "height": 206
        },
        "id": "xUBea4egmUyn",
        "outputId": "88009c6e-ff30-4ffa-b7ba-ccf92286b06d"
      },
      "source": [
        "#193458 user id with actual top rated books\n",
        "df_user[df_user['pred_rating'].notna()].sort_values('book_rating', ascending=False).head()"
      ],
      "execution_count": 90,
      "outputs": [
        {
          "output_type": "execute_result",
          "data": {
            "text/html": [
              "<div>\n",
              "<style scoped>\n",
              "    .dataframe tbody tr th:only-of-type {\n",
              "        vertical-align: middle;\n",
              "    }\n",
              "\n",
              "    .dataframe tbody tr th {\n",
              "        vertical-align: top;\n",
              "    }\n",
              "\n",
              "    .dataframe thead th {\n",
              "        text-align: right;\n",
              "    }\n",
              "</style>\n",
              "<table border=\"1\" class=\"dataframe\">\n",
              "  <thead>\n",
              "    <tr style=\"text-align: right;\">\n",
              "      <th></th>\n",
              "      <th>user_id</th>\n",
              "      <th>isbn</th>\n",
              "      <th>book_rating</th>\n",
              "      <th>Avg_Rating</th>\n",
              "      <th>Total_No_Of_Users_Rated</th>\n",
              "      <th>book_title</th>\n",
              "      <th>pred_rating</th>\n",
              "    </tr>\n",
              "  </thead>\n",
              "  <tbody>\n",
              "    <tr>\n",
              "      <th>113545</th>\n",
              "      <td>193458</td>\n",
              "      <td>0345361792</td>\n",
              "      <td>10</td>\n",
              "      <td>8.607735</td>\n",
              "      <td>181</td>\n",
              "      <td>A Prayer for Owen Meany</td>\n",
              "      <td>8.410950</td>\n",
              "    </tr>\n",
              "    <tr>\n",
              "      <th>113526</th>\n",
              "      <td>193458</td>\n",
              "      <td>0064471047</td>\n",
              "      <td>9</td>\n",
              "      <td>8.714286</td>\n",
              "      <td>42</td>\n",
              "      <td>The Lion, the Witch, and the Wardrobe (The Chr...</td>\n",
              "      <td>8.643094</td>\n",
              "    </tr>\n",
              "    <tr>\n",
              "      <th>113531</th>\n",
              "      <td>193458</td>\n",
              "      <td>0064471098</td>\n",
              "      <td>9</td>\n",
              "      <td>8.733333</td>\n",
              "      <td>15</td>\n",
              "      <td>The Silver Chair</td>\n",
              "      <td>8.183504</td>\n",
              "    </tr>\n",
              "    <tr>\n",
              "      <th>113533</th>\n",
              "      <td>193458</td>\n",
              "      <td>014011369X</td>\n",
              "      <td>9</td>\n",
              "      <td>9.125000</td>\n",
              "      <td>8</td>\n",
              "      <td>And the Band Played on: Politics, People, and ...</td>\n",
              "      <td>7.941359</td>\n",
              "    </tr>\n",
              "    <tr>\n",
              "      <th>113544</th>\n",
              "      <td>193458</td>\n",
              "      <td>0345342569</td>\n",
              "      <td>9</td>\n",
              "      <td>7.947368</td>\n",
              "      <td>19</td>\n",
              "      <td>Shoeless Joe</td>\n",
              "      <td>7.920483</td>\n",
              "    </tr>\n",
              "  </tbody>\n",
              "</table>\n",
              "</div>"
            ],
            "text/plain": [
              "        user_id  ... pred_rating\n",
              "113545   193458  ...    8.410950\n",
              "113526   193458  ...    8.643094\n",
              "113531   193458  ...    8.183504\n",
              "113533   193458  ...    7.941359\n",
              "113544   193458  ...    7.920483\n",
              "\n",
              "[5 rows x 7 columns]"
            ]
          },
          "metadata": {},
          "execution_count": 90
        }
      ]
    }
  ]
}